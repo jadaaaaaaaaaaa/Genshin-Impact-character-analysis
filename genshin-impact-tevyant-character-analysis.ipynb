{
 "cells": [
  {
   "cell_type": "markdown",
   "id": "cffb0258",
   "metadata": {
    "papermill": {
     "duration": 0.017394,
     "end_time": "2022-06-19T03:15:39.426141",
     "exception": false,
     "start_time": "2022-06-19T03:15:39.408747",
     "status": "completed"
    },
    "tags": []
   },
   "source": [
    "#### Even though I am not new to Data Preprocessing and EDA, I still require a lot of practice since I lack in it, so any sort of advice is always welcome in the discussion section.\n",
    "\n",
    "##### NOTE: This notebook is still undergoing some changes."
   ]
  },
  {
   "cell_type": "markdown",
   "id": "9fedadf1",
   "metadata": {
    "papermill": {
     "duration": 0.016432,
     "end_time": "2022-06-19T03:15:39.458494",
     "exception": false,
     "start_time": "2022-06-19T03:15:39.442062",
     "status": "completed"
    },
    "tags": []
   },
   "source": [
    "# Importing required libraries"
   ]
  },
  {
   "cell_type": "code",
   "execution_count": 1,
   "id": "0864ff10",
   "metadata": {
    "_cell_guid": "b1076dfc-b9ad-4769-8c92-a6c4dae69d19",
    "_uuid": "8f2839f25d086af736a60e9eeb907d3b93b6e0e5",
    "execution": {
     "iopub.execute_input": "2022-06-19T03:15:39.492205Z",
     "iopub.status.busy": "2022-06-19T03:15:39.491659Z",
     "iopub.status.idle": "2022-06-19T03:15:39.512263Z",
     "shell.execute_reply": "2022-06-19T03:15:39.511513Z"
    },
    "papermill": {
     "duration": 0.040735,
     "end_time": "2022-06-19T03:15:39.515094",
     "exception": false,
     "start_time": "2022-06-19T03:15:39.474359",
     "status": "completed"
    },
    "tags": []
   },
   "outputs": [
    {
     "name": "stdout",
     "output_type": "stream",
     "text": [
      "/kaggle/input/genshin-impact-character-data/genshin.csv\n"
     ]
    }
   ],
   "source": [
    "# This Python 3 environment comes with many helpful analytics libraries installed\n",
    "# It is defined by the kaggle/python Docker image: https://github.com/kaggle/docker-python\n",
    "# For example, here's several helpful packages to load\n",
    "\n",
    "import numpy as np # linear algebra\n",
    "import pandas as pd # data processing, CSV file I/O (e.g. pd.read_csv)\n",
    "\n",
    "# Input data files are available in the read-only \"../input/\" directory\n",
    "# For example, running this (by clicking run or pressing Shift+Enter) will list all files under the input directory\n",
    "\n",
    "import os\n",
    "\n",
    "for dirname, _, filenames in os.walk('/kaggle/input'):\n",
    "    for filename in filenames:\n",
    "        print(os.path.join(dirname, filename))\n",
    "\n",
    "# You can write up to 20GB to the current directory (/kaggle/working/) that gets preserved as output when you create a version using \"Save & Run All\" \n",
    "# You can also write temporary files to /kaggle/temp/, but they won't be saved outside of the current session"
   ]
  },
  {
   "cell_type": "code",
   "execution_count": 2,
   "id": "def040de",
   "metadata": {
    "execution": {
     "iopub.execute_input": "2022-06-19T03:15:39.551117Z",
     "iopub.status.busy": "2022-06-19T03:15:39.549781Z",
     "iopub.status.idle": "2022-06-19T03:15:41.931889Z",
     "shell.execute_reply": "2022-06-19T03:15:41.931106Z"
    },
    "papermill": {
     "duration": 2.402029,
     "end_time": "2022-06-19T03:15:41.934186",
     "exception": false,
     "start_time": "2022-06-19T03:15:39.532157",
     "status": "completed"
    },
    "tags": []
   },
   "outputs": [],
   "source": [
    "import matplotlib.pyplot as plt\n",
    "import matplotlib.gridspec as gridspec \n",
    "import seaborn as sns\n",
    "sns.set_theme(style=\"darkgrid\")\n",
    "\n",
    "import plotly.express as px\n",
    "\n",
    "import warnings\n",
    "warnings.filterwarnings('ignore')\n",
    "\n",
    "%matplotlib inline"
   ]
  },
  {
   "cell_type": "markdown",
   "id": "fbe1b208",
   "metadata": {
    "papermill": {
     "duration": 0.015683,
     "end_time": "2022-06-19T03:15:41.966760",
     "exception": false,
     "start_time": "2022-06-19T03:15:41.951077",
     "status": "completed"
    },
    "tags": []
   },
   "source": [
    "# Analysing Dataset"
   ]
  },
  {
   "cell_type": "code",
   "execution_count": 3,
   "id": "fd1105de",
   "metadata": {
    "execution": {
     "iopub.execute_input": "2022-06-19T03:15:42.002232Z",
     "iopub.status.busy": "2022-06-19T03:15:42.001109Z",
     "iopub.status.idle": "2022-06-19T03:15:42.058338Z",
     "shell.execute_reply": "2022-06-19T03:15:42.057636Z"
    },
    "papermill": {
     "duration": 0.077021,
     "end_time": "2022-06-19T03:15:42.060196",
     "exception": false,
     "start_time": "2022-06-19T03:15:41.983175",
     "status": "completed"
    },
    "tags": []
   },
   "outputs": [
    {
     "data": {
      "text/html": [
       "<div>\n",
       "<style scoped>\n",
       "    .dataframe tbody tr th:only-of-type {\n",
       "        vertical-align: middle;\n",
       "    }\n",
       "\n",
       "    .dataframe tbody tr th {\n",
       "        vertical-align: top;\n",
       "    }\n",
       "\n",
       "    .dataframe thead th {\n",
       "        text-align: right;\n",
       "    }\n",
       "</style>\n",
       "<table border=\"1\" class=\"dataframe\">\n",
       "  <thead>\n",
       "    <tr style=\"text-align: right;\">\n",
       "      <th></th>\n",
       "      <th>character_name</th>\n",
       "      <th>playable</th>\n",
       "      <th>rarity</th>\n",
       "      <th>vision</th>\n",
       "      <th>region</th>\n",
       "      <th>model</th>\n",
       "      <th>constellation</th>\n",
       "      <th>birthday</th>\n",
       "      <th>special_dish</th>\n",
       "      <th>voice_eng</th>\n",
       "      <th>...</th>\n",
       "      <th>hp_1_20</th>\n",
       "      <th>atk_1_20</th>\n",
       "      <th>def_1_20</th>\n",
       "      <th>spsecial_0</th>\n",
       "      <th>special_1</th>\n",
       "      <th>special_2</th>\n",
       "      <th>special_3</th>\n",
       "      <th>special_4</th>\n",
       "      <th>special_5</th>\n",
       "      <th>special_6</th>\n",
       "    </tr>\n",
       "  </thead>\n",
       "  <tbody>\n",
       "    <tr>\n",
       "      <th>0</th>\n",
       "      <td>Albedo</td>\n",
       "      <td>Y</td>\n",
       "      <td>5.0</td>\n",
       "      <td>Geo</td>\n",
       "      <td>Mondstadt</td>\n",
       "      <td>Medium Male</td>\n",
       "      <td>Princeps Cretaceus</td>\n",
       "      <td>9/13</td>\n",
       "      <td>Woodland Dream</td>\n",
       "      <td>Khoi Dao</td>\n",
       "      <td>...</td>\n",
       "      <td>1030.0</td>\n",
       "      <td>20.0</td>\n",
       "      <td>68.0</td>\n",
       "      <td>0.0%</td>\n",
       "      <td>0.0%</td>\n",
       "      <td>7.2%</td>\n",
       "      <td>14.4%</td>\n",
       "      <td>14.4%</td>\n",
       "      <td>21.6%</td>\n",
       "      <td>28.8%</td>\n",
       "    </tr>\n",
       "    <tr>\n",
       "      <th>1</th>\n",
       "      <td>Aloy</td>\n",
       "      <td>Y</td>\n",
       "      <td>5.0</td>\n",
       "      <td>Cryo</td>\n",
       "      <td>NaN</td>\n",
       "      <td>Medium Female</td>\n",
       "      <td>Nora Fortis</td>\n",
       "      <td>4/4</td>\n",
       "      <td>Satiety Gel</td>\n",
       "      <td>Giselle Fernandez</td>\n",
       "      <td>...</td>\n",
       "      <td>848.0</td>\n",
       "      <td>18.0</td>\n",
       "      <td>53.0</td>\n",
       "      <td>0.0%</td>\n",
       "      <td>0.0%</td>\n",
       "      <td>7.2%</td>\n",
       "      <td>14.4%</td>\n",
       "      <td>14.4%</td>\n",
       "      <td>21.6%</td>\n",
       "      <td>28.8%</td>\n",
       "    </tr>\n",
       "    <tr>\n",
       "      <th>2</th>\n",
       "      <td>Amber</td>\n",
       "      <td>Y</td>\n",
       "      <td>4.0</td>\n",
       "      <td>Pyro</td>\n",
       "      <td>Mondstadt</td>\n",
       "      <td>Medium Female</td>\n",
       "      <td>Lepus</td>\n",
       "      <td>8/10</td>\n",
       "      <td>Outrider's Champion Steak!</td>\n",
       "      <td>Kelly Baskin</td>\n",
       "      <td>...</td>\n",
       "      <td>793.0</td>\n",
       "      <td>19.0</td>\n",
       "      <td>50.0</td>\n",
       "      <td>0.0%</td>\n",
       "      <td>0.0%</td>\n",
       "      <td>6.0%</td>\n",
       "      <td>12.0%</td>\n",
       "      <td>12.0%</td>\n",
       "      <td>18.0%</td>\n",
       "      <td>24.0%</td>\n",
       "    </tr>\n",
       "  </tbody>\n",
       "</table>\n",
       "<p>3 rows × 72 columns</p>\n",
       "</div>"
      ],
      "text/plain": [
       "  character_name playable  rarity vision     region          model  \\\n",
       "0         Albedo        Y     5.0    Geo  Mondstadt    Medium Male   \n",
       "1           Aloy        Y     5.0   Cryo        NaN  Medium Female   \n",
       "2          Amber        Y     4.0   Pyro  Mondstadt  Medium Female   \n",
       "\n",
       "        constellation birthday                special_dish          voice_eng  \\\n",
       "0  Princeps Cretaceus     9/13              Woodland Dream           Khoi Dao   \n",
       "1         Nora Fortis      4/4                 Satiety Gel  Giselle Fernandez   \n",
       "2               Lepus     8/10  Outrider's Champion Steak!       Kelly Baskin   \n",
       "\n",
       "   ... hp_1_20 atk_1_20 def_1_20 spsecial_0 special_1 special_2 special_3  \\\n",
       "0  ...  1030.0     20.0     68.0       0.0%      0.0%      7.2%     14.4%   \n",
       "1  ...   848.0     18.0     53.0       0.0%      0.0%      7.2%     14.4%   \n",
       "2  ...   793.0     19.0     50.0       0.0%      0.0%      6.0%     12.0%   \n",
       "\n",
       "  special_4 special_5 special_6  \n",
       "0     14.4%     21.6%     28.8%  \n",
       "1     14.4%     21.6%     28.8%  \n",
       "2     12.0%     18.0%     24.0%  \n",
       "\n",
       "[3 rows x 72 columns]"
      ]
     },
     "execution_count": 3,
     "metadata": {},
     "output_type": "execute_result"
    }
   ],
   "source": [
    "path = '../input/genshin-impact-character-data/genshin.csv'\n",
    "genshin_df = pd.read_csv(path)\n",
    "genshin_df = genshin_df.drop(53)\n",
    "genshin_df.head(3)"
   ]
  },
  {
   "cell_type": "code",
   "execution_count": 4,
   "id": "a8bc716d",
   "metadata": {
    "execution": {
     "iopub.execute_input": "2022-06-19T03:15:42.094096Z",
     "iopub.status.busy": "2022-06-19T03:15:42.093662Z",
     "iopub.status.idle": "2022-06-19T03:15:42.103704Z",
     "shell.execute_reply": "2022-06-19T03:15:42.102648Z"
    },
    "papermill": {
     "duration": 0.029437,
     "end_time": "2022-06-19T03:15:42.105720",
     "exception": false,
     "start_time": "2022-06-19T03:15:42.076283",
     "status": "completed"
    },
    "tags": []
   },
   "outputs": [],
   "source": [
    "def basic_info(df):\n",
    "    \"\"\"\n",
    "    Get basic information about the dataset including shape, datatypes, statistics, null values and duplicated values.\n",
    "    \"\"\"\n",
    "    print(f'Shape of this dataset is {df.shape}.')\n",
    "    print('='*50)\n",
    "    print(df.info())\n",
    "    print(\"=\"*50)\n",
    "    print(df.describe())\n",
    "    \n",
    "def check_duplicate(df):\n",
    "    print('='*50)\n",
    "    if df.duplicated().any():\n",
    "        print(df[df.duplicated()])\n",
    "    else:\n",
    "        print('No duplicated values found!')\n",
    "    print(\"=\"*50)\n",
    "\n",
    "def check_null(df):\n",
    "    a = df.isnull().sum() \n",
    "    if a[a>0].any():\n",
    "        print(a[a>0])\n",
    "    else:\n",
    "        print('No null values found!')\n",
    "            \n",
    "            \n",
    "def check_unique(df):\n",
    "    print(df.nunique())\n",
    "    for col in df.columns:\n",
    "        b = df[col].unique()\n",
    "        if len(b)<12:\n",
    "            print(f'{col} has {len(b)} unique values ->> {b}', end = '\\n\\n')\n",
    "    "
   ]
  },
  {
   "cell_type": "code",
   "execution_count": 5,
   "id": "ac346bca",
   "metadata": {
    "execution": {
     "iopub.execute_input": "2022-06-19T03:15:42.138988Z",
     "iopub.status.busy": "2022-06-19T03:15:42.138589Z",
     "iopub.status.idle": "2022-06-19T03:15:42.258360Z",
     "shell.execute_reply": "2022-06-19T03:15:42.257416Z"
    },
    "papermill": {
     "duration": 0.139923,
     "end_time": "2022-06-19T03:15:42.261668",
     "exception": false,
     "start_time": "2022-06-19T03:15:42.121745",
     "status": "completed"
    },
    "tags": []
   },
   "outputs": [
    {
     "name": "stdout",
     "output_type": "stream",
     "text": [
      "Shape of this dataset is (53, 72).\n",
      "==================================================\n",
      "<class 'pandas.core.frame.DataFrame'>\n",
      "Int64Index: 53 entries, 0 to 52\n",
      "Data columns (total 72 columns):\n",
      " #   Column                Non-Null Count  Dtype  \n",
      "---  ------                --------------  -----  \n",
      " 0   character_name        53 non-null     object \n",
      " 1   playable              53 non-null     object \n",
      " 2   rarity                52 non-null     float64\n",
      " 3   vision                53 non-null     object \n",
      " 4   region                50 non-null     object \n",
      " 5   model                 53 non-null     object \n",
      " 6   constellation         53 non-null     object \n",
      " 7   birthday              50 non-null     object \n",
      " 8   special_dish          50 non-null     object \n",
      " 9   voice_eng             51 non-null     object \n",
      " 10  voice_cn              51 non-null     object \n",
      " 11  voice_jp              51 non-null     object \n",
      " 12  voice_kr              51 non-null     object \n",
      " 13  release_date          50 non-null     object \n",
      " 14  weapon_type           52 non-null     object \n",
      " 15  ascension             50 non-null     object \n",
      " 16  ascension_specialty   50 non-null     object \n",
      " 17  ascension_talent_mat  50 non-null     object \n",
      " 18  ascension_boss_mat    50 non-null     object \n",
      " 19  talent_book_1         50 non-null     object \n",
      " 20  talent_book_2         49 non-null     object \n",
      " 21  talent_book_3         49 non-null     object \n",
      " 22  talent_weekly         50 non-null     object \n",
      " 23  hp_90_90              50 non-null     float64\n",
      " 24  atk_90_90             50 non-null     float64\n",
      " 25  def_90_90             50 non-null     float64\n",
      " 26  hp_80_90              50 non-null     float64\n",
      " 27  atk_80_90             50 non-null     float64\n",
      " 28  def_80_90             50 non-null     float64\n",
      " 29  hp_80_80              50 non-null     float64\n",
      " 30  atk_80_80             50 non-null     float64\n",
      " 31  def_80_80             50 non-null     float64\n",
      " 32  hp_70_80              50 non-null     float64\n",
      " 33  atk_70_80             50 non-null     float64\n",
      " 34  def_70_80             50 non-null     float64\n",
      " 35  hp_70_70              50 non-null     float64\n",
      " 36  atk_70_70             50 non-null     float64\n",
      " 37  def_70_70             50 non-null     float64\n",
      " 38  hp_60_70              50 non-null     float64\n",
      " 39  atk_60_70             50 non-null     float64\n",
      " 40  def_60_70             50 non-null     float64\n",
      " 41  hp_60_60              50 non-null     float64\n",
      " 42  atk_60_60             50 non-null     float64\n",
      " 43  def_60_60             50 non-null     float64\n",
      " 44  hp_50_60              50 non-null     float64\n",
      " 45  atk_50_60             50 non-null     float64\n",
      " 46  def_50_60             50 non-null     float64\n",
      " 47  hp_50_50              50 non-null     float64\n",
      " 48  atk_50_50             50 non-null     float64\n",
      " 49  def_50_50             50 non-null     float64\n",
      " 50  hp_40_50              50 non-null     float64\n",
      " 51  atk_40_50             50 non-null     float64\n",
      " 52  def_40_50             50 non-null     float64\n",
      " 53  hp_40_40              50 non-null     float64\n",
      " 54  atk_40_40             50 non-null     float64\n",
      " 55  def_40_40             50 non-null     float64\n",
      " 56  hp_20_40              50 non-null     float64\n",
      " 57  atk_20_40             50 non-null     float64\n",
      " 58  def_20_40             50 non-null     float64\n",
      " 59  hp_20_20              50 non-null     float64\n",
      " 60  atk_20_20             50 non-null     float64\n",
      " 61  def_20_20             50 non-null     float64\n",
      " 62  hp_1_20               50 non-null     float64\n",
      " 63  atk_1_20              50 non-null     float64\n",
      " 64  def_1_20              50 non-null     float64\n",
      " 65  spsecial_0            50 non-null     object \n",
      " 66  special_1             50 non-null     object \n",
      " 67  special_2             50 non-null     object \n",
      " 68  special_3             50 non-null     object \n",
      " 69  special_4             50 non-null     object \n",
      " 70  special_5             50 non-null     object \n",
      " 71  special_6             50 non-null     object \n",
      "dtypes: float64(43), object(29)\n",
      "memory usage: 30.2+ KB\n",
      "None\n",
      "==================================================\n",
      "          rarity      hp_90_90   atk_90_90   def_90_90      hp_80_90  \\\n",
      "count  52.000000     50.000000   50.000000   50.000000     50.000000   \n",
      "mean    4.519231  11622.460000  249.900000  716.340000  10991.020000   \n",
      "std     0.504505   1690.940509   55.971658   97.266436   2132.738878   \n",
      "min     4.000000   9189.000000  106.000000  548.000000   8553.000000   \n",
      "25%     4.000000  10239.000000  212.000000  648.000000   9527.000000   \n",
      "50%     5.000000  11418.500000  239.500000  722.000000  10627.500000   \n",
      "75%     5.000000  12990.000000  298.500000  787.750000  12126.500000   \n",
      "max     5.000000  15552.000000  349.000000  959.000000  21080.000000   \n",
      "\n",
      "        atk_80_90   def_80_90      hp_80_80   atk_80_80   def_80_80  ...  \\\n",
      "count   50.000000   50.000000     50.000000   50.000000   50.000000  ...   \n",
      "mean   232.480000  666.400000  10275.460000  220.920000  633.300000  ...   \n",
      "std     51.879861   90.416045   1481.175143   49.093763   85.543222  ...   \n",
      "min     99.000000  509.000000   8144.000000   94.000000  483.000000  ...   \n",
      "25%    198.000000  603.000000   9064.000000  188.000000  575.000000  ...   \n",
      "50%    222.500000  672.500000  10119.500000  212.000000  640.000000  ...   \n",
      "75%    277.500000  735.000000  11460.500000  263.500000  695.000000  ...   \n",
      "max    325.000000  892.000000  13721.000000  308.000000  846.000000  ...   \n",
      "\n",
      "        def_40_40     hp_20_40  atk_20_40   def_20_40     hp_20_20  atk_20_20  \\\n",
      "count   50.000000    50.000000  50.000000   50.000000    50.000000   50.00000   \n",
      "mean   294.380000  3172.640000  68.220000  195.640000  2418.080000   52.12000   \n",
      "std     37.799088   431.129118  14.494601   25.562057   312.009866   11.00026   \n",
      "min    220.000000  2555.000000  29.000000  147.000000  1978.000000   21.00000   \n",
      "25%    265.250000  2769.750000  59.000000  176.250000  2103.500000   46.00000   \n",
      "50%    299.500000  3174.500000  65.500000  197.500000  2455.500000   50.00000   \n",
      "75%    320.250000  3490.250000  80.750000  213.500000  2646.000000   60.75000   \n",
      "max    386.000000  4179.000000  94.000000  258.000000  3141.000000   79.00000   \n",
      "\n",
      "        def_20_20      hp_1_20   atk_1_20   def_1_20  \n",
      "count   50.000000    50.000000  50.000000  50.000000  \n",
      "mean   149.180000   938.360000  20.080000  57.780000  \n",
      "std     19.058117   119.126542   4.009377   7.374224  \n",
      "min    111.000000   763.000000   8.000000  43.000000  \n",
      "25%    133.500000   812.500000  18.000000  51.250000  \n",
      "50%    151.500000   969.500000  19.500000  58.500000  \n",
      "75%    162.000000  1020.000000  23.000000  63.000000  \n",
      "max    194.000000  1211.000000  27.000000  75.000000  \n",
      "\n",
      "[8 rows x 43 columns]\n"
     ]
    }
   ],
   "source": [
    "basic_info(genshin_df)"
   ]
  },
  {
   "cell_type": "code",
   "execution_count": 6,
   "id": "701391d7",
   "metadata": {
    "execution": {
     "iopub.execute_input": "2022-06-19T03:15:42.295918Z",
     "iopub.status.busy": "2022-06-19T03:15:42.295564Z",
     "iopub.status.idle": "2022-06-19T03:15:42.304304Z",
     "shell.execute_reply": "2022-06-19T03:15:42.303232Z"
    },
    "papermill": {
     "duration": 0.028488,
     "end_time": "2022-06-19T03:15:42.306916",
     "exception": false,
     "start_time": "2022-06-19T03:15:42.278428",
     "status": "completed"
    },
    "tags": []
   },
   "outputs": [
    {
     "name": "stdout",
     "output_type": "stream",
     "text": [
      "rarity          1\n",
      "region          3\n",
      "birthday        3\n",
      "special_dish    3\n",
      "voice_eng       2\n",
      "               ..\n",
      "special_2       3\n",
      "special_3       3\n",
      "special_4       3\n",
      "special_5       3\n",
      "special_6       3\n",
      "Length: 67, dtype: int64\n"
     ]
    }
   ],
   "source": [
    "check_null(genshin_df)"
   ]
  },
  {
   "cell_type": "code",
   "execution_count": 7,
   "id": "124a522e",
   "metadata": {
    "execution": {
     "iopub.execute_input": "2022-06-19T03:15:42.341777Z",
     "iopub.status.busy": "2022-06-19T03:15:42.341097Z",
     "iopub.status.idle": "2022-06-19T03:15:42.357669Z",
     "shell.execute_reply": "2022-06-19T03:15:42.356710Z"
    },
    "papermill": {
     "duration": 0.037567,
     "end_time": "2022-06-19T03:15:42.361175",
     "exception": false,
     "start_time": "2022-06-19T03:15:42.323608",
     "status": "completed"
    },
    "tags": []
   },
   "outputs": [
    {
     "name": "stdout",
     "output_type": "stream",
     "text": [
      "==================================================\n",
      "No duplicated values found!\n",
      "==================================================\n"
     ]
    }
   ],
   "source": [
    "check_duplicate(genshin_df)"
   ]
  },
  {
   "cell_type": "code",
   "execution_count": 8,
   "id": "747ed308",
   "metadata": {
    "execution": {
     "iopub.execute_input": "2022-06-19T03:15:42.397522Z",
     "iopub.status.busy": "2022-06-19T03:15:42.397140Z",
     "iopub.status.idle": "2022-06-19T03:15:42.417332Z",
     "shell.execute_reply": "2022-06-19T03:15:42.416256Z"
    },
    "papermill": {
     "duration": 0.040929,
     "end_time": "2022-06-19T03:15:42.420450",
     "exception": false,
     "start_time": "2022-06-19T03:15:42.379521",
     "status": "completed"
    },
    "tags": []
   },
   "outputs": [
    {
     "name": "stdout",
     "output_type": "stream",
     "text": [
      "character_name    53\n",
      "playable           2\n",
      "rarity             2\n",
      "vision             8\n",
      "region             5\n",
      "                  ..\n",
      "special_2         10\n",
      "special_3         10\n",
      "special_4         10\n",
      "special_5         10\n",
      "special_6         10\n",
      "Length: 72, dtype: int64\n",
      "playable has 2 unique values ->> ['Y' 'N']\n",
      "\n",
      "rarity has 3 unique values ->> [ 5.  4. nan]\n",
      "\n",
      "vision has 8 unique values ->> ['Geo' 'Cryo' 'Pyro' 'Hydro' 'Electro' 'Unknown' 'Anemo' 'None']\n",
      "\n",
      "region has 6 unique values ->> ['Mondstadt' nan 'Inazuma' 'Liyue' \"Khaenri'ah\" 'Snezhnaya']\n",
      "\n",
      "model has 5 unique values ->> ['Medium Male' 'Medium Female' 'Tall Male' 'Tall Female' 'Short Female']\n",
      "\n",
      "weapon_type has 6 unique values ->> ['Sword' 'Bow' 'Claymore' 'Catalyst' nan 'Polearm']\n",
      "\n",
      "ascension_talent_mat has 10 unique values ->> ['Divining Scroll' 'Spectral Husk' 'Firm Arrowhead' 'Slime Condensate'\n",
      " 'Treasure Hoarder Insignia' 'Damaged Mask' nan \"Recruit's Insignia\"\n",
      " 'Whopperflower Nectar' 'Old Handguard']\n",
      "\n",
      "talent_book_1 has 11 unique values ->> ['Teachings of Ballad' 'Teachings of Freedom' 'Teachings of Elegance'\n",
      " 'Teachings of Gold' 'Teachings of Resistance' 'Teachings of Diligence'\n",
      " nan 'Teachings of Light' 'Teachings of Prosperity'\n",
      " 'Teachings of Transience' 'Teachings of Freedom, Teachings of Transience']\n",
      "\n",
      "talent_book_2 has 11 unique values ->> ['Guide to Ballad' 'Guide to Freedom' 'Guide to Elegance' 'Guide to Gold'\n",
      " 'Guide to Resistance' 'Guide to Diligence' nan 'Guide to Prosperity'\n",
      " 'Guide to Light' 'Guide to Transience'\n",
      " 'Guide to Resistance, Guide to Ballad, Guide to Freedom Guide to Elegance, Guide to Light, Guide to Transience']\n",
      "\n",
      "talent_book_3 has 11 unique values ->> ['Philosophies of Ballad' 'Philosophies of Freedom'\n",
      " 'Philosophies of Elegance' 'Philosophies of Gold'\n",
      " 'Philosophies of Resistance' 'Philosophies of Diligence' nan\n",
      " 'Philosophies of Prosperity' 'Philosophies of Light'\n",
      " 'Philosophies of Transience'\n",
      " 'Philosophies of Ballad, Philosophies of Freedom, Pholosophies of Resistance, Philosophies of Light, Philosophies of Transience, Philosophies of Elegance']\n",
      "\n",
      "spsecial_0 has 3 unique values ->> ['0.0%' nan '0.0']\n",
      "\n",
      "special_1 has 3 unique values ->> ['0.0%' nan '0.0']\n",
      "\n",
      "special_2 has 11 unique values ->> ['7.2%' '6.0%' '4.8%' '6.7%' nan '9.6%' '5.5%' '28.8' '24.0' '8.0%' '7.5%']\n",
      "\n",
      "special_3 has 11 unique values ->> ['14.4%' '12.0%' '9.6%' '13.3%' nan '19.2%' '11.1%' '57.6' '48.0' '16.0%'\n",
      " '15.0%']\n",
      "\n",
      "special_4 has 11 unique values ->> ['14.4%' '12.0%' '9.6%' '13.3%' nan '19.2%' '11.1%' '57.6' '48.0' '16.0%'\n",
      " '15.0%']\n",
      "\n",
      "special_5 has 11 unique values ->> ['21.6%' '18.0%' '14.4%' '20.0%' nan '28.8%' '16.6%' '86.4' '72.0' '24.0%'\n",
      " '22.5%']\n",
      "\n",
      "special_6 has 11 unique values ->> ['28.8%' '24.0%' '19.2%' '26.7%' nan '38.4%' '22.2%' '115.2' '96.0'\n",
      " '32.0%' '30.0%']\n",
      "\n"
     ]
    }
   ],
   "source": [
    "check_unique(genshin_df)"
   ]
  },
  {
   "cell_type": "markdown",
   "id": "58b48fca",
   "metadata": {
    "papermill": {
     "duration": 0.016252,
     "end_time": "2022-06-19T03:15:42.453191",
     "exception": false,
     "start_time": "2022-06-19T03:15:42.436939",
     "status": "completed"
    },
    "tags": []
   },
   "source": [
    "## Date - Time"
   ]
  },
  {
   "cell_type": "code",
   "execution_count": 9,
   "id": "0e1ce8ee",
   "metadata": {
    "execution": {
     "iopub.execute_input": "2022-06-19T03:15:42.489173Z",
     "iopub.status.busy": "2022-06-19T03:15:42.488480Z",
     "iopub.status.idle": "2022-06-19T03:15:42.502416Z",
     "shell.execute_reply": "2022-06-19T03:15:42.501584Z"
    },
    "papermill": {
     "duration": 0.034387,
     "end_time": "2022-06-19T03:15:42.504711",
     "exception": false,
     "start_time": "2022-06-19T03:15:42.470324",
     "status": "completed"
    },
    "tags": []
   },
   "outputs": [],
   "source": [
    "genshin_df['release_date'] = pd.to_datetime(genshin_df['release_date'])"
   ]
  },
  {
   "cell_type": "markdown",
   "id": "5fdefacd",
   "metadata": {
    "papermill": {
     "duration": 0.016732,
     "end_time": "2022-06-19T03:15:42.537938",
     "exception": false,
     "start_time": "2022-06-19T03:15:42.521206",
     "status": "completed"
    },
    "tags": []
   },
   "source": [
    "## Dealing with Categorical Missing Values"
   ]
  },
  {
   "cell_type": "markdown",
   "id": "88ff297b",
   "metadata": {
    "papermill": {
     "duration": 0.017496,
     "end_time": "2022-06-19T03:15:42.571982",
     "exception": false,
     "start_time": "2022-06-19T03:15:42.554486",
     "status": "completed"
    },
    "tags": []
   },
   "source": [
    "### Dealing with NaN i.e., regions of Travelers and Aloy\n",
    "#### Replacing them with 'Outlander' (I am aware it's a title) because that is closer to being from 'Another World'"
   ]
  },
  {
   "cell_type": "code",
   "execution_count": 10,
   "id": "21580323",
   "metadata": {
    "execution": {
     "iopub.execute_input": "2022-06-19T03:15:42.607846Z",
     "iopub.status.busy": "2022-06-19T03:15:42.607144Z",
     "iopub.status.idle": "2022-06-19T03:15:42.632545Z",
     "shell.execute_reply": "2022-06-19T03:15:42.631506Z"
    },
    "papermill": {
     "duration": 0.04546,
     "end_time": "2022-06-19T03:15:42.634835",
     "exception": false,
     "start_time": "2022-06-19T03:15:42.589375",
     "status": "completed"
    },
    "tags": []
   },
   "outputs": [
    {
     "data": {
      "text/html": [
       "<div>\n",
       "<style scoped>\n",
       "    .dataframe tbody tr th:only-of-type {\n",
       "        vertical-align: middle;\n",
       "    }\n",
       "\n",
       "    .dataframe tbody tr th {\n",
       "        vertical-align: top;\n",
       "    }\n",
       "\n",
       "    .dataframe thead th {\n",
       "        text-align: right;\n",
       "    }\n",
       "</style>\n",
       "<table border=\"1\" class=\"dataframe\">\n",
       "  <thead>\n",
       "    <tr style=\"text-align: right;\">\n",
       "      <th></th>\n",
       "      <th>character_name</th>\n",
       "      <th>playable</th>\n",
       "      <th>rarity</th>\n",
       "      <th>vision</th>\n",
       "      <th>region</th>\n",
       "      <th>model</th>\n",
       "      <th>constellation</th>\n",
       "      <th>birthday</th>\n",
       "      <th>special_dish</th>\n",
       "      <th>voice_eng</th>\n",
       "      <th>...</th>\n",
       "      <th>hp_1_20</th>\n",
       "      <th>atk_1_20</th>\n",
       "      <th>def_1_20</th>\n",
       "      <th>spsecial_0</th>\n",
       "      <th>special_1</th>\n",
       "      <th>special_2</th>\n",
       "      <th>special_3</th>\n",
       "      <th>special_4</th>\n",
       "      <th>special_5</th>\n",
       "      <th>special_6</th>\n",
       "    </tr>\n",
       "  </thead>\n",
       "  <tbody>\n",
       "    <tr>\n",
       "      <th>1</th>\n",
       "      <td>Aloy</td>\n",
       "      <td>Y</td>\n",
       "      <td>5.0</td>\n",
       "      <td>Cryo</td>\n",
       "      <td>NaN</td>\n",
       "      <td>Medium Female</td>\n",
       "      <td>Nora Fortis</td>\n",
       "      <td>4/4</td>\n",
       "      <td>Satiety Gel</td>\n",
       "      <td>Giselle Fernandez</td>\n",
       "      <td>...</td>\n",
       "      <td>848.0</td>\n",
       "      <td>18.0</td>\n",
       "      <td>53.0</td>\n",
       "      <td>0.0%</td>\n",
       "      <td>0.0%</td>\n",
       "      <td>7.2%</td>\n",
       "      <td>14.4%</td>\n",
       "      <td>14.4%</td>\n",
       "      <td>21.6%</td>\n",
       "      <td>28.8%</td>\n",
       "    </tr>\n",
       "    <tr>\n",
       "      <th>40</th>\n",
       "      <td>Traveler (Aether)</td>\n",
       "      <td>Y</td>\n",
       "      <td>5.0</td>\n",
       "      <td>None</td>\n",
       "      <td>NaN</td>\n",
       "      <td>Medium Female</td>\n",
       "      <td>Viator</td>\n",
       "      <td>Player's Choice</td>\n",
       "      <td>None</td>\n",
       "      <td>Sarah Miller-Crews</td>\n",
       "      <td>...</td>\n",
       "      <td>912.0</td>\n",
       "      <td>18.0</td>\n",
       "      <td>57.0</td>\n",
       "      <td>0.0%</td>\n",
       "      <td>0.0%</td>\n",
       "      <td>6.0%</td>\n",
       "      <td>12.0%</td>\n",
       "      <td>12.0%</td>\n",
       "      <td>18.0%</td>\n",
       "      <td>24.0%</td>\n",
       "    </tr>\n",
       "    <tr>\n",
       "      <th>41</th>\n",
       "      <td>Traveler (Lumine)</td>\n",
       "      <td>Y</td>\n",
       "      <td>5.0</td>\n",
       "      <td>None</td>\n",
       "      <td>NaN</td>\n",
       "      <td>Medium Male</td>\n",
       "      <td>Viatrix</td>\n",
       "      <td>Player's Choice</td>\n",
       "      <td>None</td>\n",
       "      <td>Zach Aguilar</td>\n",
       "      <td>...</td>\n",
       "      <td>912.0</td>\n",
       "      <td>18.0</td>\n",
       "      <td>57.0</td>\n",
       "      <td>0.0%</td>\n",
       "      <td>0.0%</td>\n",
       "      <td>6.0%</td>\n",
       "      <td>12.0%</td>\n",
       "      <td>12.0%</td>\n",
       "      <td>18.0%</td>\n",
       "      <td>24.0%</td>\n",
       "    </tr>\n",
       "  </tbody>\n",
       "</table>\n",
       "<p>3 rows × 72 columns</p>\n",
       "</div>"
      ],
      "text/plain": [
       "       character_name playable  rarity vision region          model  \\\n",
       "1                Aloy        Y     5.0   Cryo    NaN  Medium Female   \n",
       "40  Traveler (Aether)        Y     5.0   None    NaN  Medium Female   \n",
       "41  Traveler (Lumine)        Y     5.0   None    NaN    Medium Male   \n",
       "\n",
       "   constellation         birthday special_dish           voice_eng  ...  \\\n",
       "1    Nora Fortis              4/4  Satiety Gel   Giselle Fernandez  ...   \n",
       "40        Viator  Player's Choice         None  Sarah Miller-Crews  ...   \n",
       "41       Viatrix  Player's Choice         None        Zach Aguilar  ...   \n",
       "\n",
       "   hp_1_20 atk_1_20 def_1_20 spsecial_0 special_1 special_2 special_3  \\\n",
       "1    848.0     18.0     53.0       0.0%      0.0%      7.2%     14.4%   \n",
       "40   912.0     18.0     57.0       0.0%      0.0%      6.0%     12.0%   \n",
       "41   912.0     18.0     57.0       0.0%      0.0%      6.0%     12.0%   \n",
       "\n",
       "   special_4 special_5 special_6  \n",
       "1      14.4%     21.6%     28.8%  \n",
       "40     12.0%     18.0%     24.0%  \n",
       "41     12.0%     18.0%     24.0%  \n",
       "\n",
       "[3 rows x 72 columns]"
      ]
     },
     "execution_count": 10,
     "metadata": {},
     "output_type": "execute_result"
    }
   ],
   "source": [
    "genshin_df[genshin_df['region'].isnull()]"
   ]
  },
  {
   "cell_type": "code",
   "execution_count": 11,
   "id": "ef052dcb",
   "metadata": {
    "execution": {
     "iopub.execute_input": "2022-06-19T03:15:42.670135Z",
     "iopub.status.busy": "2022-06-19T03:15:42.669692Z",
     "iopub.status.idle": "2022-06-19T03:15:42.674743Z",
     "shell.execute_reply": "2022-06-19T03:15:42.674052Z"
    },
    "papermill": {
     "duration": 0.025034,
     "end_time": "2022-06-19T03:15:42.676758",
     "exception": false,
     "start_time": "2022-06-19T03:15:42.651724",
     "status": "completed"
    },
    "tags": []
   },
   "outputs": [],
   "source": [
    "genshin_df['region'] = genshin_df['region'].fillna('Outlander')"
   ]
  },
  {
   "cell_type": "markdown",
   "id": "28d57c31",
   "metadata": {
    "papermill": {
     "duration": 0.016931,
     "end_time": "2022-06-19T03:15:42.710520",
     "exception": false,
     "start_time": "2022-06-19T03:15:42.693589",
     "status": "completed"
    },
    "tags": []
   },
   "source": [
    "### Replacing NaN with 'Unknown' in categorical columns of non playable characters"
   ]
  },
  {
   "cell_type": "code",
   "execution_count": 12,
   "id": "2b9ffcfa",
   "metadata": {
    "execution": {
     "iopub.execute_input": "2022-06-19T03:15:42.747235Z",
     "iopub.status.busy": "2022-06-19T03:15:42.746601Z",
     "iopub.status.idle": "2022-06-19T03:15:42.760607Z",
     "shell.execute_reply": "2022-06-19T03:15:42.760004Z"
    },
    "papermill": {
     "duration": 0.034541,
     "end_time": "2022-06-19T03:15:42.762430",
     "exception": false,
     "start_time": "2022-06-19T03:15:42.727889",
     "status": "completed"
    },
    "tags": []
   },
   "outputs": [
    {
     "data": {
      "text/html": [
       "<div>\n",
       "<style scoped>\n",
       "    .dataframe tbody tr th:only-of-type {\n",
       "        vertical-align: middle;\n",
       "    }\n",
       "\n",
       "    .dataframe tbody tr th {\n",
       "        vertical-align: top;\n",
       "    }\n",
       "\n",
       "    .dataframe thead th {\n",
       "        text-align: right;\n",
       "    }\n",
       "</style>\n",
       "<table border=\"1\" class=\"dataframe\">\n",
       "  <thead>\n",
       "    <tr style=\"text-align: right;\">\n",
       "      <th></th>\n",
       "      <th>character_name</th>\n",
       "      <th>vision</th>\n",
       "      <th>rarity</th>\n",
       "      <th>weapon_type</th>\n",
       "      <th>talent_book_1</th>\n",
       "      <th>talent_book_2</th>\n",
       "      <th>talent_book_3</th>\n",
       "    </tr>\n",
       "  </thead>\n",
       "  <tbody>\n",
       "    <tr>\n",
       "      <th>8</th>\n",
       "      <td>Dainsleif</td>\n",
       "      <td>Unknown</td>\n",
       "      <td>NaN</td>\n",
       "      <td>NaN</td>\n",
       "      <td>NaN</td>\n",
       "      <td>NaN</td>\n",
       "      <td>NaN</td>\n",
       "    </tr>\n",
       "    <tr>\n",
       "      <th>24</th>\n",
       "      <td>Kuki Shinobu</td>\n",
       "      <td>Electro</td>\n",
       "      <td>4.0</td>\n",
       "      <td>Sword</td>\n",
       "      <td>NaN</td>\n",
       "      <td>NaN</td>\n",
       "      <td>NaN</td>\n",
       "    </tr>\n",
       "    <tr>\n",
       "      <th>36</th>\n",
       "      <td>Shikanoin Heizou</td>\n",
       "      <td>Anemo</td>\n",
       "      <td>4.0</td>\n",
       "      <td>Catalyst</td>\n",
       "      <td>NaN</td>\n",
       "      <td>NaN</td>\n",
       "      <td>NaN</td>\n",
       "    </tr>\n",
       "  </tbody>\n",
       "</table>\n",
       "</div>"
      ],
      "text/plain": [
       "      character_name   vision  rarity weapon_type talent_book_1 talent_book_2  \\\n",
       "8          Dainsleif  Unknown     NaN         NaN           NaN           NaN   \n",
       "24      Kuki Shinobu  Electro     4.0       Sword           NaN           NaN   \n",
       "36  Shikanoin Heizou    Anemo     4.0    Catalyst           NaN           NaN   \n",
       "\n",
       "   talent_book_3  \n",
       "8            NaN  \n",
       "24           NaN  \n",
       "36           NaN  "
      ]
     },
     "execution_count": 12,
     "metadata": {},
     "output_type": "execute_result"
    }
   ],
   "source": [
    "genshin_df[genshin_df['playable'] == 'N'][['character_name','vision','rarity','weapon_type', 'talent_book_1', 'talent_book_2','talent_book_3']]"
   ]
  },
  {
   "cell_type": "code",
   "execution_count": 13,
   "id": "dcae293c",
   "metadata": {
    "execution": {
     "iopub.execute_input": "2022-06-19T03:15:42.798924Z",
     "iopub.status.busy": "2022-06-19T03:15:42.798319Z",
     "iopub.status.idle": "2022-06-19T03:15:42.802848Z",
     "shell.execute_reply": "2022-06-19T03:15:42.802193Z"
    },
    "papermill": {
     "duration": 0.024992,
     "end_time": "2022-06-19T03:15:42.804740",
     "exception": false,
     "start_time": "2022-06-19T03:15:42.779748",
     "status": "completed"
    },
    "tags": []
   },
   "outputs": [],
   "source": [
    "# weapon_type = 'Unknown'\n",
    "genshin_df['weapon_type'] = genshin_df['weapon_type'].fillna('Unknown')"
   ]
  },
  {
   "cell_type": "code",
   "execution_count": 14,
   "id": "1c8d287e",
   "metadata": {
    "execution": {
     "iopub.execute_input": "2022-06-19T03:15:42.840732Z",
     "iopub.status.busy": "2022-06-19T03:15:42.840072Z",
     "iopub.status.idle": "2022-06-19T03:15:42.844694Z",
     "shell.execute_reply": "2022-06-19T03:15:42.843998Z"
    },
    "papermill": {
     "duration": 0.024846,
     "end_time": "2022-06-19T03:15:42.846697",
     "exception": false,
     "start_time": "2022-06-19T03:15:42.821851",
     "status": "completed"
    },
    "tags": []
   },
   "outputs": [],
   "source": [
    "genshin_df['rarity'] = genshin_df['rarity'].fillna(0.0)"
   ]
  },
  {
   "cell_type": "code",
   "execution_count": 15,
   "id": "ff3901a6",
   "metadata": {
    "execution": {
     "iopub.execute_input": "2022-06-19T03:15:42.884090Z",
     "iopub.status.busy": "2022-06-19T03:15:42.883517Z",
     "iopub.status.idle": "2022-06-19T03:15:42.900492Z",
     "shell.execute_reply": "2022-06-19T03:15:42.899207Z"
    },
    "papermill": {
     "duration": 0.037875,
     "end_time": "2022-06-19T03:15:42.902922",
     "exception": false,
     "start_time": "2022-06-19T03:15:42.865047",
     "status": "completed"
    },
    "tags": []
   },
   "outputs": [
    {
     "data": {
      "text/html": [
       "<div>\n",
       "<style scoped>\n",
       "    .dataframe tbody tr th:only-of-type {\n",
       "        vertical-align: middle;\n",
       "    }\n",
       "\n",
       "    .dataframe tbody tr th {\n",
       "        vertical-align: top;\n",
       "    }\n",
       "\n",
       "    .dataframe thead th {\n",
       "        text-align: right;\n",
       "    }\n",
       "</style>\n",
       "<table border=\"1\" class=\"dataframe\">\n",
       "  <thead>\n",
       "    <tr style=\"text-align: right;\">\n",
       "      <th></th>\n",
       "      <th>character_name</th>\n",
       "      <th>playable</th>\n",
       "      <th>rarity</th>\n",
       "      <th>vision</th>\n",
       "      <th>region</th>\n",
       "      <th>model</th>\n",
       "      <th>constellation</th>\n",
       "      <th>birthday</th>\n",
       "      <th>special_dish</th>\n",
       "      <th>voice_eng</th>\n",
       "      <th>...</th>\n",
       "      <th>hp_1_20</th>\n",
       "      <th>atk_1_20</th>\n",
       "      <th>def_1_20</th>\n",
       "      <th>spsecial_0</th>\n",
       "      <th>special_1</th>\n",
       "      <th>special_2</th>\n",
       "      <th>special_3</th>\n",
       "      <th>special_4</th>\n",
       "      <th>special_5</th>\n",
       "      <th>special_6</th>\n",
       "    </tr>\n",
       "  </thead>\n",
       "  <tbody>\n",
       "  </tbody>\n",
       "</table>\n",
       "<p>0 rows × 72 columns</p>\n",
       "</div>"
      ],
      "text/plain": [
       "Empty DataFrame\n",
       "Columns: [character_name, playable, rarity, vision, region, model, constellation, birthday, special_dish, voice_eng, voice_cn, voice_jp, voice_kr, release_date, weapon_type, ascension, ascension_specialty, ascension_talent_mat, ascension_boss_mat, talent_book_1, talent_book_2, talent_book_3, talent_weekly, hp_90_90, atk_90_90, def_90_90, hp_80_90, atk_80_90, def_80_90, hp_80_80, atk_80_80, def_80_80, hp_70_80, atk_70_80, def_70_80, hp_70_70, atk_70_70, def_70_70, hp_60_70, atk_60_70, def_60_70, hp_60_60, atk_60_60, def_60_60, hp_50_60, atk_50_60, def_50_60, hp_50_50, atk_50_50, def_50_50, hp_40_50, atk_40_50, def_40_50, hp_40_40, atk_40_40, def_40_40, hp_20_40, atk_20_40, def_20_40, hp_20_20, atk_20_20, def_20_20, hp_1_20, atk_1_20, def_1_20, spsecial_0, special_1, special_2, special_3, special_4, special_5, special_6]\n",
       "Index: []\n",
       "\n",
       "[0 rows x 72 columns]"
      ]
     },
     "execution_count": 15,
     "metadata": {},
     "output_type": "execute_result"
    }
   ],
   "source": [
    "genshin_df[genshin_df['rarity'].isnull()]"
   ]
  },
  {
   "cell_type": "markdown",
   "id": "64840b80",
   "metadata": {
    "papermill": {
     "duration": 0.017648,
     "end_time": "2022-06-19T03:15:42.941633",
     "exception": false,
     "start_time": "2022-06-19T03:15:42.923985",
     "status": "completed"
    },
    "tags": []
   },
   "source": [
    "### Multiple values to singled values & Correcting the error of 'Pholosophies of Resistance'"
   ]
  },
  {
   "cell_type": "code",
   "execution_count": 16,
   "id": "2b54dbc0",
   "metadata": {
    "execution": {
     "iopub.execute_input": "2022-06-19T03:15:42.978093Z",
     "iopub.status.busy": "2022-06-19T03:15:42.977372Z",
     "iopub.status.idle": "2022-06-19T03:15:42.988106Z",
     "shell.execute_reply": "2022-06-19T03:15:42.987143Z"
    },
    "papermill": {
     "duration": 0.031726,
     "end_time": "2022-06-19T03:15:42.990506",
     "exception": false,
     "start_time": "2022-06-19T03:15:42.958780",
     "status": "completed"
    },
    "tags": []
   },
   "outputs": [
    {
     "data": {
      "text/html": [
       "<div>\n",
       "<style scoped>\n",
       "    .dataframe tbody tr th:only-of-type {\n",
       "        vertical-align: middle;\n",
       "    }\n",
       "\n",
       "    .dataframe tbody tr th {\n",
       "        vertical-align: top;\n",
       "    }\n",
       "\n",
       "    .dataframe thead th {\n",
       "        text-align: right;\n",
       "    }\n",
       "</style>\n",
       "<table border=\"1\" class=\"dataframe\">\n",
       "  <thead>\n",
       "    <tr style=\"text-align: right;\">\n",
       "      <th></th>\n",
       "      <th>talent_book_3</th>\n",
       "    </tr>\n",
       "  </thead>\n",
       "  <tbody>\n",
       "    <tr>\n",
       "      <th>40</th>\n",
       "      <td>Philosophies of Ballad, Philosophies of Freedo...</td>\n",
       "    </tr>\n",
       "    <tr>\n",
       "      <th>41</th>\n",
       "      <td>Philosophies of Ballad, Philosophies of Freedo...</td>\n",
       "    </tr>\n",
       "  </tbody>\n",
       "</table>\n",
       "</div>"
      ],
      "text/plain": [
       "                                        talent_book_3\n",
       "40  Philosophies of Ballad, Philosophies of Freedo...\n",
       "41  Philosophies of Ballad, Philosophies of Freedo..."
      ]
     },
     "execution_count": 16,
     "metadata": {},
     "output_type": "execute_result"
    }
   ],
   "source": [
    "genshin_df[genshin_df['vision']=='None'][['talent_book_3']]"
   ]
  },
  {
   "cell_type": "code",
   "execution_count": 17,
   "id": "051e55c1",
   "metadata": {
    "execution": {
     "iopub.execute_input": "2022-06-19T03:15:43.029285Z",
     "iopub.status.busy": "2022-06-19T03:15:43.028609Z",
     "iopub.status.idle": "2022-06-19T03:15:43.034943Z",
     "shell.execute_reply": "2022-06-19T03:15:43.034279Z"
    },
    "papermill": {
     "duration": 0.027214,
     "end_time": "2022-06-19T03:15:43.037019",
     "exception": false,
     "start_time": "2022-06-19T03:15:43.009805",
     "status": "completed"
    },
    "tags": []
   },
   "outputs": [],
   "source": [
    "genshin_df['talent_book_3'] = genshin_df['talent_book_3'].astype('str')\n",
    "genshin_df['talent_book_3'] = genshin_df['talent_book_3'].str.split(', ')"
   ]
  },
  {
   "cell_type": "code",
   "execution_count": 18,
   "id": "76382417",
   "metadata": {
    "execution": {
     "iopub.execute_input": "2022-06-19T03:15:43.073386Z",
     "iopub.status.busy": "2022-06-19T03:15:43.072684Z",
     "iopub.status.idle": "2022-06-19T03:15:43.089619Z",
     "shell.execute_reply": "2022-06-19T03:15:43.088888Z"
    },
    "papermill": {
     "duration": 0.037654,
     "end_time": "2022-06-19T03:15:43.091823",
     "exception": false,
     "start_time": "2022-06-19T03:15:43.054169",
     "status": "completed"
    },
    "tags": []
   },
   "outputs": [],
   "source": [
    "genshin_df = genshin_df.explode('talent_book_3')\n",
    "genshin_df = genshin_df.reset_index(drop=True)"
   ]
  },
  {
   "cell_type": "code",
   "execution_count": 19,
   "id": "868975c9",
   "metadata": {
    "execution": {
     "iopub.execute_input": "2022-06-19T03:15:43.129532Z",
     "iopub.status.busy": "2022-06-19T03:15:43.128903Z",
     "iopub.status.idle": "2022-06-19T03:15:43.140095Z",
     "shell.execute_reply": "2022-06-19T03:15:43.139132Z"
    },
    "papermill": {
     "duration": 0.032048,
     "end_time": "2022-06-19T03:15:43.142102",
     "exception": false,
     "start_time": "2022-06-19T03:15:43.110054",
     "status": "completed"
    },
    "tags": []
   },
   "outputs": [
    {
     "data": {
      "text/html": [
       "<div>\n",
       "<style scoped>\n",
       "    .dataframe tbody tr th:only-of-type {\n",
       "        vertical-align: middle;\n",
       "    }\n",
       "\n",
       "    .dataframe tbody tr th {\n",
       "        vertical-align: top;\n",
       "    }\n",
       "\n",
       "    .dataframe thead th {\n",
       "        text-align: right;\n",
       "    }\n",
       "</style>\n",
       "<table border=\"1\" class=\"dataframe\">\n",
       "  <thead>\n",
       "    <tr style=\"text-align: right;\">\n",
       "      <th></th>\n",
       "      <th>talent_book_3</th>\n",
       "    </tr>\n",
       "  </thead>\n",
       "  <tbody>\n",
       "    <tr>\n",
       "      <th>40</th>\n",
       "      <td>Philosophies of Ballad</td>\n",
       "    </tr>\n",
       "    <tr>\n",
       "      <th>41</th>\n",
       "      <td>Philosophies of Freedom</td>\n",
       "    </tr>\n",
       "    <tr>\n",
       "      <th>42</th>\n",
       "      <td>Pholosophies of Resistance</td>\n",
       "    </tr>\n",
       "    <tr>\n",
       "      <th>43</th>\n",
       "      <td>Philosophies of Light</td>\n",
       "    </tr>\n",
       "    <tr>\n",
       "      <th>44</th>\n",
       "      <td>Philosophies of Transience</td>\n",
       "    </tr>\n",
       "    <tr>\n",
       "      <th>45</th>\n",
       "      <td>Philosophies of Elegance</td>\n",
       "    </tr>\n",
       "    <tr>\n",
       "      <th>46</th>\n",
       "      <td>Philosophies of Ballad</td>\n",
       "    </tr>\n",
       "    <tr>\n",
       "      <th>47</th>\n",
       "      <td>Philosophies of Freedom</td>\n",
       "    </tr>\n",
       "    <tr>\n",
       "      <th>48</th>\n",
       "      <td>Pholosophies of Resistance</td>\n",
       "    </tr>\n",
       "    <tr>\n",
       "      <th>49</th>\n",
       "      <td>Philosophies of Light</td>\n",
       "    </tr>\n",
       "    <tr>\n",
       "      <th>50</th>\n",
       "      <td>Philosophies of Transience</td>\n",
       "    </tr>\n",
       "    <tr>\n",
       "      <th>51</th>\n",
       "      <td>Philosophies of Elegance</td>\n",
       "    </tr>\n",
       "  </tbody>\n",
       "</table>\n",
       "</div>"
      ],
      "text/plain": [
       "                 talent_book_3\n",
       "40      Philosophies of Ballad\n",
       "41     Philosophies of Freedom\n",
       "42  Pholosophies of Resistance\n",
       "43       Philosophies of Light\n",
       "44  Philosophies of Transience\n",
       "45    Philosophies of Elegance\n",
       "46      Philosophies of Ballad\n",
       "47     Philosophies of Freedom\n",
       "48  Pholosophies of Resistance\n",
       "49       Philosophies of Light\n",
       "50  Philosophies of Transience\n",
       "51    Philosophies of Elegance"
      ]
     },
     "execution_count": 19,
     "metadata": {},
     "output_type": "execute_result"
    }
   ],
   "source": [
    "genshin_df[genshin_df['vision']=='None'][['talent_book_3']]"
   ]
  },
  {
   "cell_type": "markdown",
   "id": "f0976d82",
   "metadata": {
    "papermill": {
     "duration": 0.017306,
     "end_time": "2022-06-19T03:15:43.176909",
     "exception": false,
     "start_time": "2022-06-19T03:15:43.159603",
     "status": "completed"
    },
    "tags": []
   },
   "source": [
    "### Correcting the spelling error"
   ]
  },
  {
   "cell_type": "code",
   "execution_count": 20,
   "id": "9787a7bc",
   "metadata": {
    "execution": {
     "iopub.execute_input": "2022-06-19T03:15:43.213760Z",
     "iopub.status.busy": "2022-06-19T03:15:43.213372Z",
     "iopub.status.idle": "2022-06-19T03:15:43.220639Z",
     "shell.execute_reply": "2022-06-19T03:15:43.219649Z"
    },
    "papermill": {
     "duration": 0.028085,
     "end_time": "2022-06-19T03:15:43.222701",
     "exception": false,
     "start_time": "2022-06-19T03:15:43.194616",
     "status": "completed"
    },
    "tags": []
   },
   "outputs": [],
   "source": [
    "genshin_df = genshin_df.replace(to_replace='Pholosophies of Resistance', value='Philosophies of Resistance')"
   ]
  },
  {
   "cell_type": "code",
   "execution_count": 21,
   "id": "f4ef0208",
   "metadata": {
    "execution": {
     "iopub.execute_input": "2022-06-19T03:15:43.259289Z",
     "iopub.status.busy": "2022-06-19T03:15:43.258894Z",
     "iopub.status.idle": "2022-06-19T03:15:43.262920Z",
     "shell.execute_reply": "2022-06-19T03:15:43.262032Z"
    },
    "papermill": {
     "duration": 0.024468,
     "end_time": "2022-06-19T03:15:43.264807",
     "exception": false,
     "start_time": "2022-06-19T03:15:43.240339",
     "status": "completed"
    },
    "tags": []
   },
   "outputs": [],
   "source": [
    "# genshin_df[genshin_df['talent_book_3'] == 'nan'][['character_name','talent_books','talent_book_1', 'talent_book_2','talent_book_3']]"
   ]
  },
  {
   "cell_type": "markdown",
   "id": "e6a51899",
   "metadata": {
    "papermill": {
     "duration": 0.017098,
     "end_time": "2022-06-19T03:15:43.299352",
     "exception": false,
     "start_time": "2022-06-19T03:15:43.282254",
     "status": "completed"
    },
    "tags": []
   },
   "source": [
    "#### Gorou's talent books were missing in the dataset"
   ]
  },
  {
   "cell_type": "code",
   "execution_count": 22,
   "id": "7bd3accd",
   "metadata": {
    "execution": {
     "iopub.execute_input": "2022-06-19T03:15:43.335758Z",
     "iopub.status.busy": "2022-06-19T03:15:43.335348Z",
     "iopub.status.idle": "2022-06-19T03:15:43.349606Z",
     "shell.execute_reply": "2022-06-19T03:15:43.348879Z"
    },
    "papermill": {
     "duration": 0.034863,
     "end_time": "2022-06-19T03:15:43.351617",
     "exception": false,
     "start_time": "2022-06-19T03:15:43.316754",
     "status": "completed"
    },
    "tags": []
   },
   "outputs": [
    {
     "data": {
      "text/html": [
       "<div>\n",
       "<style scoped>\n",
       "    .dataframe tbody tr th:only-of-type {\n",
       "        vertical-align: middle;\n",
       "    }\n",
       "\n",
       "    .dataframe tbody tr th {\n",
       "        vertical-align: top;\n",
       "    }\n",
       "\n",
       "    .dataframe thead th {\n",
       "        text-align: right;\n",
       "    }\n",
       "</style>\n",
       "<table border=\"1\" class=\"dataframe\">\n",
       "  <thead>\n",
       "    <tr style=\"text-align: right;\">\n",
       "      <th></th>\n",
       "      <th>character_name</th>\n",
       "      <th>talent_book_1</th>\n",
       "      <th>talent_book_2</th>\n",
       "      <th>talent_book_3</th>\n",
       "    </tr>\n",
       "  </thead>\n",
       "  <tbody>\n",
       "    <tr>\n",
       "      <th>14</th>\n",
       "      <td>Gorou</td>\n",
       "      <td>Teachings of Light</td>\n",
       "      <td>NaN</td>\n",
       "      <td>nan</td>\n",
       "    </tr>\n",
       "  </tbody>\n",
       "</table>\n",
       "</div>"
      ],
      "text/plain": [
       "   character_name       talent_book_1 talent_book_2 talent_book_3\n",
       "14          Gorou  Teachings of Light           NaN           nan"
      ]
     },
     "execution_count": 22,
     "metadata": {},
     "output_type": "execute_result"
    }
   ],
   "source": [
    "genshin_df[genshin_df['character_name'] == 'Gorou'][['character_name','talent_book_1', 'talent_book_2','talent_book_3']]"
   ]
  },
  {
   "cell_type": "code",
   "execution_count": 23,
   "id": "56688ca4",
   "metadata": {
    "execution": {
     "iopub.execute_input": "2022-06-19T03:15:43.389544Z",
     "iopub.status.busy": "2022-06-19T03:15:43.388948Z",
     "iopub.status.idle": "2022-06-19T03:15:43.393285Z",
     "shell.execute_reply": "2022-06-19T03:15:43.392610Z"
    },
    "papermill": {
     "duration": 0.025653,
     "end_time": "2022-06-19T03:15:43.395138",
     "exception": false,
     "start_time": "2022-06-19T03:15:43.369485",
     "status": "completed"
    },
    "tags": []
   },
   "outputs": [],
   "source": [
    "genshin_df.loc[14, 'talent_book_3'] = 'Philosophies of Light'"
   ]
  },
  {
   "cell_type": "code",
   "execution_count": 24,
   "id": "79a0e218",
   "metadata": {
    "execution": {
     "iopub.execute_input": "2022-06-19T03:15:43.432446Z",
     "iopub.status.busy": "2022-06-19T03:15:43.431685Z",
     "iopub.status.idle": "2022-06-19T03:15:43.436767Z",
     "shell.execute_reply": "2022-06-19T03:15:43.436081Z"
    },
    "papermill": {
     "duration": 0.025949,
     "end_time": "2022-06-19T03:15:43.438778",
     "exception": false,
     "start_time": "2022-06-19T03:15:43.412829",
     "status": "completed"
    },
    "tags": []
   },
   "outputs": [],
   "source": [
    "genshin_df['talent_book_3'] = genshin_df['talent_book_3'].replace('nan', 'Unknown')"
   ]
  },
  {
   "cell_type": "code",
   "execution_count": 25,
   "id": "d78b20e7",
   "metadata": {
    "execution": {
     "iopub.execute_input": "2022-06-19T03:15:43.476030Z",
     "iopub.status.busy": "2022-06-19T03:15:43.475430Z",
     "iopub.status.idle": "2022-06-19T03:15:43.482698Z",
     "shell.execute_reply": "2022-06-19T03:15:43.482052Z"
    },
    "papermill": {
     "duration": 0.028251,
     "end_time": "2022-06-19T03:15:43.484722",
     "exception": false,
     "start_time": "2022-06-19T03:15:43.456471",
     "status": "completed"
    },
    "tags": []
   },
   "outputs": [],
   "source": [
    "# %%timeit\n",
    "\n",
    "def replace_talent_books(df, col, key):\n",
    "    df[col] = df['talent_book_3']\n",
    "    df[col] = df[col].apply(lambda x: x[15:])\n",
    "    df[col] = key + df[col]\n",
    "\n",
    "replace_talent_books(genshin_df, 'talent_book_1', 'Teachings of')\n",
    "replace_talent_books(genshin_df, 'talent_book_2', 'Guide to')"
   ]
  },
  {
   "cell_type": "code",
   "execution_count": 26,
   "id": "a9646380",
   "metadata": {
    "execution": {
     "iopub.execute_input": "2022-06-19T03:15:43.521883Z",
     "iopub.status.busy": "2022-06-19T03:15:43.521292Z",
     "iopub.status.idle": "2022-06-19T03:15:43.533936Z",
     "shell.execute_reply": "2022-06-19T03:15:43.532999Z"
    },
    "papermill": {
     "duration": 0.033723,
     "end_time": "2022-06-19T03:15:43.536147",
     "exception": false,
     "start_time": "2022-06-19T03:15:43.502424",
     "status": "completed"
    },
    "tags": []
   },
   "outputs": [
    {
     "data": {
      "text/html": [
       "<div>\n",
       "<style scoped>\n",
       "    .dataframe tbody tr th:only-of-type {\n",
       "        vertical-align: middle;\n",
       "    }\n",
       "\n",
       "    .dataframe tbody tr th {\n",
       "        vertical-align: top;\n",
       "    }\n",
       "\n",
       "    .dataframe thead th {\n",
       "        text-align: right;\n",
       "    }\n",
       "</style>\n",
       "<table border=\"1\" class=\"dataframe\">\n",
       "  <thead>\n",
       "    <tr style=\"text-align: right;\">\n",
       "      <th></th>\n",
       "      <th>talent_book_1</th>\n",
       "      <th>talent_book_2</th>\n",
       "      <th>talent_book_3</th>\n",
       "    </tr>\n",
       "  </thead>\n",
       "  <tbody>\n",
       "    <tr>\n",
       "      <th>40</th>\n",
       "      <td>Teachings of Ballad</td>\n",
       "      <td>Guide to Ballad</td>\n",
       "      <td>Philosophies of Ballad</td>\n",
       "    </tr>\n",
       "    <tr>\n",
       "      <th>41</th>\n",
       "      <td>Teachings of Freedom</td>\n",
       "      <td>Guide to Freedom</td>\n",
       "      <td>Philosophies of Freedom</td>\n",
       "    </tr>\n",
       "    <tr>\n",
       "      <th>42</th>\n",
       "      <td>Teachings of Resistance</td>\n",
       "      <td>Guide to Resistance</td>\n",
       "      <td>Philosophies of Resistance</td>\n",
       "    </tr>\n",
       "    <tr>\n",
       "      <th>43</th>\n",
       "      <td>Teachings of Light</td>\n",
       "      <td>Guide to Light</td>\n",
       "      <td>Philosophies of Light</td>\n",
       "    </tr>\n",
       "    <tr>\n",
       "      <th>44</th>\n",
       "      <td>Teachings of Transience</td>\n",
       "      <td>Guide to Transience</td>\n",
       "      <td>Philosophies of Transience</td>\n",
       "    </tr>\n",
       "    <tr>\n",
       "      <th>45</th>\n",
       "      <td>Teachings of Elegance</td>\n",
       "      <td>Guide to Elegance</td>\n",
       "      <td>Philosophies of Elegance</td>\n",
       "    </tr>\n",
       "    <tr>\n",
       "      <th>46</th>\n",
       "      <td>Teachings of Ballad</td>\n",
       "      <td>Guide to Ballad</td>\n",
       "      <td>Philosophies of Ballad</td>\n",
       "    </tr>\n",
       "    <tr>\n",
       "      <th>47</th>\n",
       "      <td>Teachings of Freedom</td>\n",
       "      <td>Guide to Freedom</td>\n",
       "      <td>Philosophies of Freedom</td>\n",
       "    </tr>\n",
       "    <tr>\n",
       "      <th>48</th>\n",
       "      <td>Teachings of Resistance</td>\n",
       "      <td>Guide to Resistance</td>\n",
       "      <td>Philosophies of Resistance</td>\n",
       "    </tr>\n",
       "    <tr>\n",
       "      <th>49</th>\n",
       "      <td>Teachings of Light</td>\n",
       "      <td>Guide to Light</td>\n",
       "      <td>Philosophies of Light</td>\n",
       "    </tr>\n",
       "    <tr>\n",
       "      <th>50</th>\n",
       "      <td>Teachings of Transience</td>\n",
       "      <td>Guide to Transience</td>\n",
       "      <td>Philosophies of Transience</td>\n",
       "    </tr>\n",
       "    <tr>\n",
       "      <th>51</th>\n",
       "      <td>Teachings of Elegance</td>\n",
       "      <td>Guide to Elegance</td>\n",
       "      <td>Philosophies of Elegance</td>\n",
       "    </tr>\n",
       "  </tbody>\n",
       "</table>\n",
       "</div>"
      ],
      "text/plain": [
       "              talent_book_1        talent_book_2               talent_book_3\n",
       "40      Teachings of Ballad      Guide to Ballad      Philosophies of Ballad\n",
       "41     Teachings of Freedom     Guide to Freedom     Philosophies of Freedom\n",
       "42  Teachings of Resistance  Guide to Resistance  Philosophies of Resistance\n",
       "43       Teachings of Light       Guide to Light       Philosophies of Light\n",
       "44  Teachings of Transience  Guide to Transience  Philosophies of Transience\n",
       "45    Teachings of Elegance    Guide to Elegance    Philosophies of Elegance\n",
       "46      Teachings of Ballad      Guide to Ballad      Philosophies of Ballad\n",
       "47     Teachings of Freedom     Guide to Freedom     Philosophies of Freedom\n",
       "48  Teachings of Resistance  Guide to Resistance  Philosophies of Resistance\n",
       "49       Teachings of Light       Guide to Light       Philosophies of Light\n",
       "50  Teachings of Transience  Guide to Transience  Philosophies of Transience\n",
       "51    Teachings of Elegance    Guide to Elegance    Philosophies of Elegance"
      ]
     },
     "execution_count": 26,
     "metadata": {},
     "output_type": "execute_result"
    }
   ],
   "source": [
    "genshin_df[genshin_df['vision']=='None'][['talent_book_1', 'talent_book_2','talent_book_3']]"
   ]
  },
  {
   "cell_type": "markdown",
   "id": "6662efb9",
   "metadata": {
    "papermill": {
     "duration": 0.018418,
     "end_time": "2022-06-19T03:15:43.572881",
     "exception": false,
     "start_time": "2022-06-19T03:15:43.554463",
     "status": "completed"
    },
    "tags": []
   },
   "source": [
    "Realized that there was no need of levels of talent books, the categories will be same"
   ]
  },
  {
   "cell_type": "code",
   "execution_count": 27,
   "id": "09e453da",
   "metadata": {
    "execution": {
     "iopub.execute_input": "2022-06-19T03:15:43.610929Z",
     "iopub.status.busy": "2022-06-19T03:15:43.610007Z",
     "iopub.status.idle": "2022-06-19T03:15:43.616006Z",
     "shell.execute_reply": "2022-06-19T03:15:43.615104Z"
    },
    "papermill": {
     "duration": 0.027573,
     "end_time": "2022-06-19T03:15:43.618422",
     "exception": false,
     "start_time": "2022-06-19T03:15:43.590849",
     "status": "completed"
    },
    "tags": []
   },
   "outputs": [],
   "source": [
    "genshin_df['talent_books'] = genshin_df['talent_book_3'].apply(lambda x: x[16:])"
   ]
  },
  {
   "cell_type": "code",
   "execution_count": 28,
   "id": "3acef390",
   "metadata": {
    "execution": {
     "iopub.execute_input": "2022-06-19T03:15:43.656912Z",
     "iopub.status.busy": "2022-06-19T03:15:43.656535Z",
     "iopub.status.idle": "2022-06-19T03:15:43.660836Z",
     "shell.execute_reply": "2022-06-19T03:15:43.659891Z"
    },
    "papermill": {
     "duration": 0.025946,
     "end_time": "2022-06-19T03:15:43.662850",
     "exception": false,
     "start_time": "2022-06-19T03:15:43.636904",
     "status": "completed"
    },
    "tags": []
   },
   "outputs": [],
   "source": [
    "# genshin_df[genshin_df['character_name'] == 'Gorou'][['character_name','rarity','weapon_type', 'talent_book_1', 'talent_book_2','talent_book_3']]"
   ]
  },
  {
   "cell_type": "code",
   "execution_count": 29,
   "id": "dc1d2f2b",
   "metadata": {
    "execution": {
     "iopub.execute_input": "2022-06-19T03:15:43.701156Z",
     "iopub.status.busy": "2022-06-19T03:15:43.700707Z",
     "iopub.status.idle": "2022-06-19T03:15:43.713721Z",
     "shell.execute_reply": "2022-06-19T03:15:43.712693Z"
    },
    "papermill": {
     "duration": 0.034635,
     "end_time": "2022-06-19T03:15:43.715684",
     "exception": false,
     "start_time": "2022-06-19T03:15:43.681049",
     "status": "completed"
    },
    "tags": []
   },
   "outputs": [
    {
     "data": {
      "text/html": [
       "<div>\n",
       "<style scoped>\n",
       "    .dataframe tbody tr th:only-of-type {\n",
       "        vertical-align: middle;\n",
       "    }\n",
       "\n",
       "    .dataframe tbody tr th {\n",
       "        vertical-align: top;\n",
       "    }\n",
       "\n",
       "    .dataframe thead th {\n",
       "        text-align: right;\n",
       "    }\n",
       "</style>\n",
       "<table border=\"1\" class=\"dataframe\">\n",
       "  <thead>\n",
       "    <tr style=\"text-align: right;\">\n",
       "      <th></th>\n",
       "      <th>talent_book_1</th>\n",
       "      <th>talent_book_2</th>\n",
       "      <th>talent_book_3</th>\n",
       "    </tr>\n",
       "  </thead>\n",
       "  <tbody>\n",
       "    <tr>\n",
       "      <th>8</th>\n",
       "      <td>Teachings of</td>\n",
       "      <td>Guide to</td>\n",
       "      <td>Unknown</td>\n",
       "    </tr>\n",
       "    <tr>\n",
       "      <th>24</th>\n",
       "      <td>Teachings of</td>\n",
       "      <td>Guide to</td>\n",
       "      <td>Unknown</td>\n",
       "    </tr>\n",
       "    <tr>\n",
       "      <th>36</th>\n",
       "      <td>Teachings of</td>\n",
       "      <td>Guide to</td>\n",
       "      <td>Unknown</td>\n",
       "    </tr>\n",
       "  </tbody>\n",
       "</table>\n",
       "</div>"
      ],
      "text/plain": [
       "   talent_book_1 talent_book_2 talent_book_3\n",
       "8   Teachings of      Guide to       Unknown\n",
       "24  Teachings of      Guide to       Unknown\n",
       "36  Teachings of      Guide to       Unknown"
      ]
     },
     "execution_count": 29,
     "metadata": {},
     "output_type": "execute_result"
    }
   ],
   "source": [
    "genshin_df[genshin_df['talent_books']==''][['talent_book_1', 'talent_book_2','talent_book_3']]"
   ]
  },
  {
   "cell_type": "markdown",
   "id": "9495db8d",
   "metadata": {
    "papermill": {
     "duration": 0.019188,
     "end_time": "2022-06-19T03:15:43.753481",
     "exception": false,
     "start_time": "2022-06-19T03:15:43.734293",
     "status": "completed"
    },
    "tags": []
   },
   "source": [
    "#### Here the non playable characters got the additional string values from the function above. Hence removed them manually."
   ]
  },
  {
   "cell_type": "code",
   "execution_count": 30,
   "id": "e03ea8a3",
   "metadata": {
    "execution": {
     "iopub.execute_input": "2022-06-19T03:15:43.792732Z",
     "iopub.status.busy": "2022-06-19T03:15:43.791914Z",
     "iopub.status.idle": "2022-06-19T03:15:43.799554Z",
     "shell.execute_reply": "2022-06-19T03:15:43.798625Z"
    },
    "papermill": {
     "duration": 0.029333,
     "end_time": "2022-06-19T03:15:43.801631",
     "exception": false,
     "start_time": "2022-06-19T03:15:43.772298",
     "status": "completed"
    },
    "tags": []
   },
   "outputs": [],
   "source": [
    "index = [8,24,36]\n",
    "for i in index:\n",
    "    genshin_df.loc[i, 'talent_book_1'] = 'Unknown'\n",
    "    genshin_df.loc[i, 'talent_book_2'] = 'Unknown'"
   ]
  },
  {
   "cell_type": "code",
   "execution_count": 31,
   "id": "b603dac2",
   "metadata": {
    "execution": {
     "iopub.execute_input": "2022-06-19T03:15:43.840720Z",
     "iopub.status.busy": "2022-06-19T03:15:43.840116Z",
     "iopub.status.idle": "2022-06-19T03:15:43.844829Z",
     "shell.execute_reply": "2022-06-19T03:15:43.844191Z"
    },
    "papermill": {
     "duration": 0.026769,
     "end_time": "2022-06-19T03:15:43.846778",
     "exception": false,
     "start_time": "2022-06-19T03:15:43.820009",
     "status": "completed"
    },
    "tags": []
   },
   "outputs": [],
   "source": [
    "genshin_df['talent_books'] = genshin_df['talent_books'].replace('', 'Unknown')"
   ]
  },
  {
   "cell_type": "markdown",
   "id": "32c747e0",
   "metadata": {
    "papermill": {
     "duration": 0.018211,
     "end_time": "2022-06-19T03:15:43.883332",
     "exception": false,
     "start_time": "2022-06-19T03:15:43.865121",
     "status": "completed"
    },
    "tags": []
   },
   "source": [
    "### Changing Playable to 1 and Non Playable characters to 0"
   ]
  },
  {
   "cell_type": "code",
   "execution_count": 32,
   "id": "2f6b7528",
   "metadata": {
    "execution": {
     "iopub.execute_input": "2022-06-19T03:15:43.921659Z",
     "iopub.status.busy": "2022-06-19T03:15:43.921091Z",
     "iopub.status.idle": "2022-06-19T03:15:43.926297Z",
     "shell.execute_reply": "2022-06-19T03:15:43.925575Z"
    },
    "papermill": {
     "duration": 0.026817,
     "end_time": "2022-06-19T03:15:43.928356",
     "exception": false,
     "start_time": "2022-06-19T03:15:43.901539",
     "status": "completed"
    },
    "tags": []
   },
   "outputs": [],
   "source": [
    "genshin_df['Playable'] = np.where(genshin_df['playable']=='Y', 1, 0)\n"
   ]
  },
  {
   "cell_type": "markdown",
   "id": "3a4dc9b4",
   "metadata": {
    "papermill": {
     "duration": 0.018445,
     "end_time": "2022-06-19T03:15:43.965255",
     "exception": false,
     "start_time": "2022-06-19T03:15:43.946810",
     "status": "completed"
    },
    "tags": []
   },
   "source": [
    "# EDA"
   ]
  },
  {
   "cell_type": "code",
   "execution_count": 33,
   "id": "d6670bec",
   "metadata": {
    "execution": {
     "iopub.execute_input": "2022-06-19T03:15:44.003728Z",
     "iopub.status.busy": "2022-06-19T03:15:44.003102Z",
     "iopub.status.idle": "2022-06-19T03:15:44.009886Z",
     "shell.execute_reply": "2022-06-19T03:15:44.009142Z"
    },
    "papermill": {
     "duration": 0.028503,
     "end_time": "2022-06-19T03:15:44.012016",
     "exception": false,
     "start_time": "2022-06-19T03:15:43.983513",
     "status": "completed"
    },
    "tags": []
   },
   "outputs": [
    {
     "data": {
      "text/plain": [
       "Index(['character_name', 'playable', 'rarity', 'vision', 'region', 'model',\n",
       "       'constellation', 'birthday', 'special_dish', 'voice_eng', 'voice_cn',\n",
       "       'voice_jp', 'voice_kr', 'release_date', 'weapon_type', 'ascension',\n",
       "       'ascension_specialty', 'ascension_talent_mat', 'ascension_boss_mat',\n",
       "       'talent_book_1', 'talent_book_2', 'talent_book_3', 'talent_weekly',\n",
       "       'hp_90_90', 'atk_90_90', 'def_90_90', 'hp_80_90', 'atk_80_90',\n",
       "       'def_80_90', 'hp_80_80', 'atk_80_80', 'def_80_80', 'hp_70_80',\n",
       "       'atk_70_80', 'def_70_80', 'hp_70_70', 'atk_70_70', 'def_70_70',\n",
       "       'hp_60_70', 'atk_60_70', 'def_60_70', 'hp_60_60', 'atk_60_60',\n",
       "       'def_60_60', 'hp_50_60', 'atk_50_60', 'def_50_60', 'hp_50_50',\n",
       "       'atk_50_50', 'def_50_50', 'hp_40_50', 'atk_40_50', 'def_40_50',\n",
       "       'hp_40_40', 'atk_40_40', 'def_40_40', 'hp_20_40', 'atk_20_40',\n",
       "       'def_20_40', 'hp_20_20', 'atk_20_20', 'def_20_20', 'hp_1_20',\n",
       "       'atk_1_20', 'def_1_20', 'spsecial_0', 'special_1', 'special_2',\n",
       "       'special_3', 'special_4', 'special_5', 'special_6', 'talent_books',\n",
       "       'Playable'],\n",
       "      dtype='object')"
      ]
     },
     "execution_count": 33,
     "metadata": {},
     "output_type": "execute_result"
    }
   ],
   "source": [
    "genshin_df.columns"
   ]
  },
  {
   "cell_type": "code",
   "execution_count": 34,
   "id": "bda01e4a",
   "metadata": {
    "execution": {
     "iopub.execute_input": "2022-06-19T03:15:44.051175Z",
     "iopub.status.busy": "2022-06-19T03:15:44.050610Z",
     "iopub.status.idle": "2022-06-19T03:15:44.297988Z",
     "shell.execute_reply": "2022-06-19T03:15:44.297043Z"
    },
    "papermill": {
     "duration": 0.269298,
     "end_time": "2022-06-19T03:15:44.300209",
     "exception": false,
     "start_time": "2022-06-19T03:15:44.030911",
     "status": "completed"
    },
    "tags": []
   },
   "outputs": [
    {
     "data": {
      "image/png": "[encoded data removed]",
      "text/plain": [
       "<Figure size 1080x576 with 1 Axes>"
      ]
     },
     "metadata": {
      "needs_background": "light"
     },
     "output_type": "display_data"
    }
   ],
   "source": [
    "plt.figure(figsize=(15,8))\n",
    "sns.countplot(x=genshin_df.talent_books)\n",
    "plt.xticks(rotation=30);\n"
   ]
  },
  {
   "cell_type": "code",
   "execution_count": 35,
   "id": "374508ec",
   "metadata": {
    "execution": {
     "iopub.execute_input": "2022-06-19T03:15:44.339746Z",
     "iopub.status.busy": "2022-06-19T03:15:44.339335Z",
     "iopub.status.idle": "2022-06-19T03:15:44.577722Z",
     "shell.execute_reply": "2022-06-19T03:15:44.577039Z"
    },
    "papermill": {
     "duration": 0.260643,
     "end_time": "2022-06-19T03:15:44.579721",
     "exception": false,
     "start_time": "2022-06-19T03:15:44.319078",
     "status": "completed"
    },
    "tags": []
   },
   "outputs": [
    {
     "data": {
      "image/png": "[encoded data removed]",
      "text/plain": [
       "<Figure size 1080x576 with 1 Axes>"
      ]
     },
     "metadata": {
      "needs_background": "light"
     },
     "output_type": "display_data"
    }
   ],
   "source": [
    "plt.figure(figsize=(15,8))\n",
    "sns.countplot(x=genshin_df.ascension_talent_mat)\n",
    "plt.xticks(rotation=30);\n"
   ]
  },
  {
   "cell_type": "code",
   "execution_count": 36,
   "id": "5bed96e7",
   "metadata": {
    "execution": {
     "iopub.execute_input": "2022-06-19T03:15:44.621193Z",
     "iopub.status.busy": "2022-06-19T03:15:44.620078Z",
     "iopub.status.idle": "2022-06-19T03:15:44.756751Z",
     "shell.execute_reply": "2022-06-19T03:15:44.755832Z"
    },
    "papermill": {
     "duration": 0.159633,
     "end_time": "2022-06-19T03:15:44.758846",
     "exception": false,
     "start_time": "2022-06-19T03:15:44.599213",
     "status": "completed"
    },
    "tags": []
   },
   "outputs": [
    {
     "data": {
      "text/plain": [
       "<AxesSubplot:xlabel='playable', ylabel='count'>"
      ]
     },
     "execution_count": 36,
     "metadata": {},
     "output_type": "execute_result"
    },
    {
     "data": {
      "image/png": "[encoded data removed]",
      "text/plain": [
       "<Figure size 1080x576 with 1 Axes>"
      ]
     },
     "metadata": {
      "needs_background": "light"
     },
     "output_type": "display_data"
    }
   ],
   "source": [
    "plt.figure(figsize=(15,8))\n",
    "sns.countplot(x=genshin_df.playable)\n",
    "# plt.xticks(rotation=30);\n"
   ]
  },
  {
   "cell_type": "markdown",
   "id": "b58e012a",
   "metadata": {
    "papermill": {
     "duration": 0.019488,
     "end_time": "2022-06-19T03:15:44.798199",
     "exception": false,
     "start_time": "2022-06-19T03:15:44.778711",
     "status": "completed"
    },
    "tags": []
   },
   "source": [
    "### Region wise - Vision and Weapon distribution"
   ]
  },
  {
   "cell_type": "code",
   "execution_count": 37,
   "id": "809081fb",
   "metadata": {
    "execution": {
     "iopub.execute_input": "2022-06-19T03:15:44.840642Z",
     "iopub.status.busy": "2022-06-19T03:15:44.840251Z",
     "iopub.status.idle": "2022-06-19T03:15:44.857194Z",
     "shell.execute_reply": "2022-06-19T03:15:44.856508Z"
    },
    "papermill": {
     "duration": 0.040442,
     "end_time": "2022-06-19T03:15:44.858895",
     "exception": false,
     "start_time": "2022-06-19T03:15:44.818453",
     "status": "completed"
    },
    "tags": []
   },
   "outputs": [
    {
     "data": {
      "text/html": [
       "<div>\n",
       "<style scoped>\n",
       "    .dataframe tbody tr th:only-of-type {\n",
       "        vertical-align: middle;\n",
       "    }\n",
       "\n",
       "    .dataframe tbody tr th {\n",
       "        vertical-align: top;\n",
       "    }\n",
       "\n",
       "    .dataframe thead th {\n",
       "        text-align: right;\n",
       "    }\n",
       "</style>\n",
       "<table border=\"1\" class=\"dataframe\">\n",
       "  <thead>\n",
       "    <tr style=\"text-align: right;\">\n",
       "      <th></th>\n",
       "      <th>region</th>\n",
       "      <th>vision</th>\n",
       "      <th>weapon_type</th>\n",
       "    </tr>\n",
       "  </thead>\n",
       "  <tbody>\n",
       "    <tr>\n",
       "      <th>0</th>\n",
       "      <td>Inazuma</td>\n",
       "      <td>Anemo</td>\n",
       "      <td>3</td>\n",
       "    </tr>\n",
       "    <tr>\n",
       "      <th>1</th>\n",
       "      <td>Inazuma</td>\n",
       "      <td>Cryo</td>\n",
       "      <td>1</td>\n",
       "    </tr>\n",
       "    <tr>\n",
       "      <th>2</th>\n",
       "      <td>Inazuma</td>\n",
       "      <td>Electro</td>\n",
       "      <td>4</td>\n",
       "    </tr>\n",
       "    <tr>\n",
       "      <th>3</th>\n",
       "      <td>Inazuma</td>\n",
       "      <td>Geo</td>\n",
       "      <td>2</td>\n",
       "    </tr>\n",
       "    <tr>\n",
       "      <th>4</th>\n",
       "      <td>Inazuma</td>\n",
       "      <td>Hydro</td>\n",
       "      <td>2</td>\n",
       "    </tr>\n",
       "    <tr>\n",
       "      <th>5</th>\n",
       "      <td>Inazuma</td>\n",
       "      <td>Pyro</td>\n",
       "      <td>2</td>\n",
       "    </tr>\n",
       "    <tr>\n",
       "      <th>6</th>\n",
       "      <td>Khaenri'ah</td>\n",
       "      <td>Unknown</td>\n",
       "      <td>1</td>\n",
       "    </tr>\n",
       "    <tr>\n",
       "      <th>7</th>\n",
       "      <td>Liyue</td>\n",
       "      <td>Anemo</td>\n",
       "      <td>1</td>\n",
       "    </tr>\n",
       "    <tr>\n",
       "      <th>8</th>\n",
       "      <td>Liyue</td>\n",
       "      <td>Cryo</td>\n",
       "      <td>4</td>\n",
       "    </tr>\n",
       "    <tr>\n",
       "      <th>9</th>\n",
       "      <td>Liyue</td>\n",
       "      <td>Electro</td>\n",
       "      <td>2</td>\n",
       "    </tr>\n",
       "    <tr>\n",
       "      <th>10</th>\n",
       "      <td>Liyue</td>\n",
       "      <td>Geo</td>\n",
       "      <td>2</td>\n",
       "    </tr>\n",
       "    <tr>\n",
       "      <th>11</th>\n",
       "      <td>Liyue</td>\n",
       "      <td>Hydro</td>\n",
       "      <td>2</td>\n",
       "    </tr>\n",
       "    <tr>\n",
       "      <th>12</th>\n",
       "      <td>Liyue</td>\n",
       "      <td>Pyro</td>\n",
       "      <td>3</td>\n",
       "    </tr>\n",
       "    <tr>\n",
       "      <th>13</th>\n",
       "      <td>Mondstadt</td>\n",
       "      <td>Anemo</td>\n",
       "      <td>3</td>\n",
       "    </tr>\n",
       "    <tr>\n",
       "      <th>14</th>\n",
       "      <td>Mondstadt</td>\n",
       "      <td>Cryo</td>\n",
       "      <td>4</td>\n",
       "    </tr>\n",
       "    <tr>\n",
       "      <th>15</th>\n",
       "      <td>Mondstadt</td>\n",
       "      <td>Electro</td>\n",
       "      <td>3</td>\n",
       "    </tr>\n",
       "    <tr>\n",
       "      <th>16</th>\n",
       "      <td>Mondstadt</td>\n",
       "      <td>Geo</td>\n",
       "      <td>2</td>\n",
       "    </tr>\n",
       "    <tr>\n",
       "      <th>17</th>\n",
       "      <td>Mondstadt</td>\n",
       "      <td>Hydro</td>\n",
       "      <td>1</td>\n",
       "    </tr>\n",
       "    <tr>\n",
       "      <th>18</th>\n",
       "      <td>Mondstadt</td>\n",
       "      <td>Pyro</td>\n",
       "      <td>4</td>\n",
       "    </tr>\n",
       "    <tr>\n",
       "      <th>19</th>\n",
       "      <td>Outlander</td>\n",
       "      <td>Cryo</td>\n",
       "      <td>1</td>\n",
       "    </tr>\n",
       "    <tr>\n",
       "      <th>20</th>\n",
       "      <td>Outlander</td>\n",
       "      <td>None</td>\n",
       "      <td>1</td>\n",
       "    </tr>\n",
       "    <tr>\n",
       "      <th>21</th>\n",
       "      <td>Snezhnaya</td>\n",
       "      <td>Hydro</td>\n",
       "      <td>1</td>\n",
       "    </tr>\n",
       "  </tbody>\n",
       "</table>\n",
       "</div>"
      ],
      "text/plain": [
       "        region   vision  weapon_type\n",
       "0      Inazuma    Anemo            3\n",
       "1      Inazuma     Cryo            1\n",
       "2      Inazuma  Electro            4\n",
       "3      Inazuma      Geo            2\n",
       "4      Inazuma    Hydro            2\n",
       "5      Inazuma     Pyro            2\n",
       "6   Khaenri'ah  Unknown            1\n",
       "7        Liyue    Anemo            1\n",
       "8        Liyue     Cryo            4\n",
       "9        Liyue  Electro            2\n",
       "10       Liyue      Geo            2\n",
       "11       Liyue    Hydro            2\n",
       "12       Liyue     Pyro            3\n",
       "13   Mondstadt    Anemo            3\n",
       "14   Mondstadt     Cryo            4\n",
       "15   Mondstadt  Electro            3\n",
       "16   Mondstadt      Geo            2\n",
       "17   Mondstadt    Hydro            1\n",
       "18   Mondstadt     Pyro            4\n",
       "19   Outlander     Cryo            1\n",
       "20   Outlander     None            1\n",
       "21   Snezhnaya    Hydro            1"
      ]
     },
     "execution_count": 37,
     "metadata": {},
     "output_type": "execute_result"
    }
   ],
   "source": [
    "genshin_region_type_wise = genshin_df.groupby(['region', 'vision'])[['weapon_type']].nunique().reset_index()\n",
    "genshin_region_type_wise"
   ]
  },
  {
   "cell_type": "code",
   "execution_count": 38,
   "id": "f231c67b",
   "metadata": {
    "execution": {
     "iopub.execute_input": "2022-06-19T03:15:44.902253Z",
     "iopub.status.busy": "2022-06-19T03:15:44.901641Z",
     "iopub.status.idle": "2022-06-19T03:15:45.577801Z",
     "shell.execute_reply": "2022-06-19T03:15:45.577059Z"
    },
    "papermill": {
     "duration": 0.699749,
     "end_time": "2022-06-19T03:15:45.579780",
     "exception": false,
     "start_time": "2022-06-19T03:15:44.880031",
     "status": "completed"
    },
    "tags": []
   },
   "outputs": [
    {
     "data": {
      "image/png": "[encoded data removed]",
      "text/plain": [
       "<Figure size 933.25x595.44 with 1 Axes>"
      ]
     },
     "metadata": {
      "needs_background": "light"
     },
     "output_type": "display_data"
    }
   ],
   "source": [
    "# plt.figure(figsize=(15,8))\n",
    "fig = sns.relplot(x=\"region\", y=\"weapon_type\", hue=\"vision\", data=genshin_region_type_wise, height=8.27, aspect=11.7/8.27)"
   ]
  },
  {
   "cell_type": "markdown",
   "id": "30b56a62",
   "metadata": {
    "papermill": {
     "duration": 0.021371,
     "end_time": "2022-06-19T03:15:45.622140",
     "exception": false,
     "start_time": "2022-06-19T03:15:45.600769",
     "status": "completed"
    },
    "tags": []
   },
   "source": [
    "- The above graph displays the vision and weapon type distribution among the regions.\n",
    "<br> \n",
    "- For example, in Mondstadt, there are 3 different types of weapons (catalyst - Lisa, claymore - Razor, bow - Fischl) found associated with Electro vision."
   ]
  },
  {
   "cell_type": "markdown",
   "id": "8f8396da",
   "metadata": {
    "papermill": {
     "duration": 0.020376,
     "end_time": "2022-06-19T03:15:45.663073",
     "exception": false,
     "start_time": "2022-06-19T03:15:45.642697",
     "status": "completed"
    },
    "tags": []
   },
   "source": [
    "### Playable character and their vision count over region "
   ]
  },
  {
   "cell_type": "code",
   "execution_count": 39,
   "id": "cafb453b",
   "metadata": {
    "execution": {
     "iopub.execute_input": "2022-06-19T03:15:45.706421Z",
     "iopub.status.busy": "2022-06-19T03:15:45.705551Z",
     "iopub.status.idle": "2022-06-19T03:15:45.726239Z",
     "shell.execute_reply": "2022-06-19T03:15:45.725263Z"
    },
    "papermill": {
     "duration": 0.044768,
     "end_time": "2022-06-19T03:15:45.728440",
     "exception": false,
     "start_time": "2022-06-19T03:15:45.683672",
     "status": "completed"
    },
    "tags": []
   },
   "outputs": [
    {
     "data": {
      "text/html": [
       "<div>\n",
       "<style scoped>\n",
       "    .dataframe tbody tr th:only-of-type {\n",
       "        vertical-align: middle;\n",
       "    }\n",
       "\n",
       "    .dataframe tbody tr th {\n",
       "        vertical-align: top;\n",
       "    }\n",
       "\n",
       "    .dataframe thead th {\n",
       "        text-align: right;\n",
       "    }\n",
       "</style>\n",
       "<table border=\"1\" class=\"dataframe\">\n",
       "  <thead>\n",
       "    <tr style=\"text-align: right;\">\n",
       "      <th></th>\n",
       "      <th>playable</th>\n",
       "      <th>vision</th>\n",
       "      <th>vision_count</th>\n",
       "    </tr>\n",
       "  </thead>\n",
       "  <tbody>\n",
       "    <tr>\n",
       "      <th>0</th>\n",
       "      <td>N</td>\n",
       "      <td>Anemo</td>\n",
       "      <td>1</td>\n",
       "    </tr>\n",
       "    <tr>\n",
       "      <th>1</th>\n",
       "      <td>N</td>\n",
       "      <td>Electro</td>\n",
       "      <td>1</td>\n",
       "    </tr>\n",
       "    <tr>\n",
       "      <th>2</th>\n",
       "      <td>N</td>\n",
       "      <td>Unknown</td>\n",
       "      <td>1</td>\n",
       "    </tr>\n",
       "    <tr>\n",
       "      <th>3</th>\n",
       "      <td>Y</td>\n",
       "      <td>Anemo</td>\n",
       "      <td>6</td>\n",
       "    </tr>\n",
       "    <tr>\n",
       "      <th>4</th>\n",
       "      <td>Y</td>\n",
       "      <td>Cryo</td>\n",
       "      <td>10</td>\n",
       "    </tr>\n",
       "    <tr>\n",
       "      <th>5</th>\n",
       "      <td>Y</td>\n",
       "      <td>Electro</td>\n",
       "      <td>8</td>\n",
       "    </tr>\n",
       "    <tr>\n",
       "      <th>6</th>\n",
       "      <td>Y</td>\n",
       "      <td>Geo</td>\n",
       "      <td>7</td>\n",
       "    </tr>\n",
       "    <tr>\n",
       "      <th>7</th>\n",
       "      <td>Y</td>\n",
       "      <td>Hydro</td>\n",
       "      <td>7</td>\n",
       "    </tr>\n",
       "    <tr>\n",
       "      <th>8</th>\n",
       "      <td>Y</td>\n",
       "      <td>None</td>\n",
       "      <td>12</td>\n",
       "    </tr>\n",
       "    <tr>\n",
       "      <th>9</th>\n",
       "      <td>Y</td>\n",
       "      <td>Pyro</td>\n",
       "      <td>10</td>\n",
       "    </tr>\n",
       "  </tbody>\n",
       "</table>\n",
       "</div>"
      ],
      "text/plain": [
       "  playable   vision  vision_count\n",
       "0        N    Anemo             1\n",
       "1        N  Electro             1\n",
       "2        N  Unknown             1\n",
       "3        Y    Anemo             6\n",
       "4        Y     Cryo            10\n",
       "5        Y  Electro             8\n",
       "6        Y      Geo             7\n",
       "7        Y    Hydro             7\n",
       "8        Y     None            12\n",
       "9        Y     Pyro            10"
      ]
     },
     "execution_count": 39,
     "metadata": {},
     "output_type": "execute_result"
    }
   ],
   "source": [
    "def vision_count(genshin_df):\n",
    "    return genshin_df.vision.count()\n",
    "    \n",
    "\n",
    "genshin_region_count_wise = genshin_df.groupby(['playable', 'vision'])[['vision']].agg(vision_count).reset_index().rename(columns={0:'vision_count'})\n",
    "genshin_region_count_wise"
   ]
  },
  {
   "cell_type": "code",
   "execution_count": 40,
   "id": "5dee09e1",
   "metadata": {
    "execution": {
     "iopub.execute_input": "2022-06-19T03:15:45.772618Z",
     "iopub.status.busy": "2022-06-19T03:15:45.771872Z",
     "iopub.status.idle": "2022-06-19T03:15:46.427469Z",
     "shell.execute_reply": "2022-06-19T03:15:46.426450Z"
    },
    "papermill": {
     "duration": 0.68005,
     "end_time": "2022-06-19T03:15:46.429594",
     "exception": false,
     "start_time": "2022-06-19T03:15:45.749544",
     "status": "completed"
    },
    "tags": []
   },
   "outputs": [
    {
     "data": {
      "image/png": "[encoded data removed]",
      "text/plain": [
       "<Figure size 933.25x595.44 with 1 Axes>"
      ]
     },
     "metadata": {
      "needs_background": "light"
     },
     "output_type": "display_data"
    }
   ],
   "source": [
    "fig2 = sns.catplot(x=\"playable\", y='vision_count', hue=\"vision\", data=genshin_region_count_wise, height=8.27, aspect=11.7/8.27)"
   ]
  },
  {
   "cell_type": "markdown",
   "id": "fe1fee45",
   "metadata": {
    "papermill": {
     "duration": 0.020913,
     "end_time": "2022-06-19T03:15:46.471813",
     "exception": false,
     "start_time": "2022-06-19T03:15:46.450900",
     "status": "completed"
    },
    "tags": []
   },
   "source": [
    "Observations: 6 playable characters are Anemo vision holders, similarly we can find number of playable or non playable characters with specific visions in the game"
   ]
  },
  {
   "cell_type": "code",
   "execution_count": 41,
   "id": "e9ceb34d",
   "metadata": {
    "execution": {
     "iopub.execute_input": "2022-06-19T03:15:46.515760Z",
     "iopub.status.busy": "2022-06-19T03:15:46.515385Z",
     "iopub.status.idle": "2022-06-19T03:15:46.536820Z",
     "shell.execute_reply": "2022-06-19T03:15:46.536122Z"
    },
    "papermill": {
     "duration": 0.045634,
     "end_time": "2022-06-19T03:15:46.538698",
     "exception": false,
     "start_time": "2022-06-19T03:15:46.493064",
     "status": "completed"
    },
    "tags": []
   },
   "outputs": [
    {
     "data": {
      "text/html": [
       "<div>\n",
       "<style scoped>\n",
       "    .dataframe tbody tr th:only-of-type {\n",
       "        vertical-align: middle;\n",
       "    }\n",
       "\n",
       "    .dataframe tbody tr th {\n",
       "        vertical-align: top;\n",
       "    }\n",
       "\n",
       "    .dataframe thead th {\n",
       "        text-align: right;\n",
       "    }\n",
       "</style>\n",
       "<table border=\"1\" class=\"dataframe\">\n",
       "  <thead>\n",
       "    <tr style=\"text-align: right;\">\n",
       "      <th></th>\n",
       "      <th>vision</th>\n",
       "      <th>playable</th>\n",
       "      <th>rarity</th>\n",
       "      <th>region</th>\n",
       "      <th>weapon_type</th>\n",
       "      <th>talent_books</th>\n",
       "      <th>ascension_talent_mat</th>\n",
       "    </tr>\n",
       "  </thead>\n",
       "  <tbody>\n",
       "    <tr>\n",
       "      <th>0</th>\n",
       "      <td>Anemo</td>\n",
       "      <td>N</td>\n",
       "      <td>4.0</td>\n",
       "      <td>1</td>\n",
       "      <td>1</td>\n",
       "      <td>1</td>\n",
       "      <td>0</td>\n",
       "    </tr>\n",
       "    <tr>\n",
       "      <th>1</th>\n",
       "      <td>Anemo</td>\n",
       "      <td>Y</td>\n",
       "      <td>4.0</td>\n",
       "      <td>2</td>\n",
       "      <td>2</td>\n",
       "      <td>2</td>\n",
       "      <td>1</td>\n",
       "    </tr>\n",
       "    <tr>\n",
       "      <th>2</th>\n",
       "      <td>Anemo</td>\n",
       "      <td>Y</td>\n",
       "      <td>5.0</td>\n",
       "      <td>3</td>\n",
       "      <td>3</td>\n",
       "      <td>4</td>\n",
       "      <td>3</td>\n",
       "    </tr>\n",
       "    <tr>\n",
       "      <th>3</th>\n",
       "      <td>Cryo</td>\n",
       "      <td>Y</td>\n",
       "      <td>4.0</td>\n",
       "      <td>2</td>\n",
       "      <td>4</td>\n",
       "      <td>3</td>\n",
       "      <td>4</td>\n",
       "    </tr>\n",
       "    <tr>\n",
       "      <th>4</th>\n",
       "      <td>Cryo</td>\n",
       "      <td>Y</td>\n",
       "      <td>5.0</td>\n",
       "      <td>4</td>\n",
       "      <td>4</td>\n",
       "      <td>5</td>\n",
       "      <td>5</td>\n",
       "    </tr>\n",
       "    <tr>\n",
       "      <th>5</th>\n",
       "      <td>Electro</td>\n",
       "      <td>N</td>\n",
       "      <td>4.0</td>\n",
       "      <td>1</td>\n",
       "      <td>1</td>\n",
       "      <td>1</td>\n",
       "      <td>0</td>\n",
       "    </tr>\n",
       "    <tr>\n",
       "      <th>6</th>\n",
       "      <td>Electro</td>\n",
       "      <td>Y</td>\n",
       "      <td>4.0</td>\n",
       "      <td>3</td>\n",
       "      <td>3</td>\n",
       "      <td>4</td>\n",
       "      <td>4</td>\n",
       "    </tr>\n",
       "    <tr>\n",
       "      <th>7</th>\n",
       "      <td>Electro</td>\n",
       "      <td>Y</td>\n",
       "      <td>5.0</td>\n",
       "      <td>2</td>\n",
       "      <td>3</td>\n",
       "      <td>2</td>\n",
       "      <td>2</td>\n",
       "    </tr>\n",
       "    <tr>\n",
       "      <th>8</th>\n",
       "      <td>Geo</td>\n",
       "      <td>Y</td>\n",
       "      <td>4.0</td>\n",
       "      <td>3</td>\n",
       "      <td>4</td>\n",
       "      <td>4</td>\n",
       "      <td>3</td>\n",
       "    </tr>\n",
       "    <tr>\n",
       "      <th>9</th>\n",
       "      <td>Geo</td>\n",
       "      <td>Y</td>\n",
       "      <td>5.0</td>\n",
       "      <td>3</td>\n",
       "      <td>3</td>\n",
       "      <td>3</td>\n",
       "      <td>2</td>\n",
       "    </tr>\n",
       "    <tr>\n",
       "      <th>10</th>\n",
       "      <td>Hydro</td>\n",
       "      <td>Y</td>\n",
       "      <td>4.0</td>\n",
       "      <td>2</td>\n",
       "      <td>2</td>\n",
       "      <td>2</td>\n",
       "      <td>2</td>\n",
       "    </tr>\n",
       "    <tr>\n",
       "      <th>11</th>\n",
       "      <td>Hydro</td>\n",
       "      <td>Y</td>\n",
       "      <td>5.0</td>\n",
       "      <td>4</td>\n",
       "      <td>3</td>\n",
       "      <td>5</td>\n",
       "      <td>4</td>\n",
       "    </tr>\n",
       "    <tr>\n",
       "      <th>12</th>\n",
       "      <td>None</td>\n",
       "      <td>Y</td>\n",
       "      <td>5.0</td>\n",
       "      <td>1</td>\n",
       "      <td>1</td>\n",
       "      <td>6</td>\n",
       "      <td>1</td>\n",
       "    </tr>\n",
       "    <tr>\n",
       "      <th>13</th>\n",
       "      <td>Pyro</td>\n",
       "      <td>Y</td>\n",
       "      <td>4.0</td>\n",
       "      <td>3</td>\n",
       "      <td>5</td>\n",
       "      <td>5</td>\n",
       "      <td>3</td>\n",
       "    </tr>\n",
       "    <tr>\n",
       "      <th>14</th>\n",
       "      <td>Pyro</td>\n",
       "      <td>Y</td>\n",
       "      <td>5.0</td>\n",
       "      <td>3</td>\n",
       "      <td>4</td>\n",
       "      <td>4</td>\n",
       "      <td>3</td>\n",
       "    </tr>\n",
       "    <tr>\n",
       "      <th>15</th>\n",
       "      <td>Unknown</td>\n",
       "      <td>N</td>\n",
       "      <td>0.0</td>\n",
       "      <td>1</td>\n",
       "      <td>1</td>\n",
       "      <td>1</td>\n",
       "      <td>0</td>\n",
       "    </tr>\n",
       "  </tbody>\n",
       "</table>\n",
       "</div>"
      ],
      "text/plain": [
       "     vision playable  rarity  region  weapon_type  talent_books  \\\n",
       "0     Anemo        N     4.0       1            1             1   \n",
       "1     Anemo        Y     4.0       2            2             2   \n",
       "2     Anemo        Y     5.0       3            3             4   \n",
       "3      Cryo        Y     4.0       2            4             3   \n",
       "4      Cryo        Y     5.0       4            4             5   \n",
       "5   Electro        N     4.0       1            1             1   \n",
       "6   Electro        Y     4.0       3            3             4   \n",
       "7   Electro        Y     5.0       2            3             2   \n",
       "8       Geo        Y     4.0       3            4             4   \n",
       "9       Geo        Y     5.0       3            3             3   \n",
       "10    Hydro        Y     4.0       2            2             2   \n",
       "11    Hydro        Y     5.0       4            3             5   \n",
       "12     None        Y     5.0       1            1             6   \n",
       "13     Pyro        Y     4.0       3            5             5   \n",
       "14     Pyro        Y     5.0       3            4             4   \n",
       "15  Unknown        N     0.0       1            1             1   \n",
       "\n",
       "    ascension_talent_mat  \n",
       "0                      0  \n",
       "1                      1  \n",
       "2                      3  \n",
       "3                      4  \n",
       "4                      5  \n",
       "5                      0  \n",
       "6                      4  \n",
       "7                      2  \n",
       "8                      3  \n",
       "9                      2  \n",
       "10                     2  \n",
       "11                     4  \n",
       "12                     1  \n",
       "13                     3  \n",
       "14                     3  \n",
       "15                     0  "
      ]
     },
     "execution_count": 41,
     "metadata": {},
     "output_type": "execute_result"
    }
   ],
   "source": [
    "genshin_vision_wise = genshin_df.groupby(['vision', 'playable','rarity'])[['region' ,'weapon_type','talent_books','ascension_talent_mat']].nunique().reset_index()\n",
    "genshin_vision_wise"
   ]
  },
  {
   "cell_type": "code",
   "execution_count": 42,
   "id": "d4f3333d",
   "metadata": {
    "execution": {
     "iopub.execute_input": "2022-06-19T03:15:46.584236Z",
     "iopub.status.busy": "2022-06-19T03:15:46.583872Z",
     "iopub.status.idle": "2022-06-19T03:15:51.477239Z",
     "shell.execute_reply": "2022-06-19T03:15:51.476241Z"
    },
    "papermill": {
     "duration": 4.918838,
     "end_time": "2022-06-19T03:15:51.479396",
     "exception": false,
     "start_time": "2022-06-19T03:15:46.560558",
     "status": "completed"
    },
    "tags": []
   },
   "outputs": [
    {
     "data": {
      "image/png": "[encoded data removed]",
      "text/plain": [
       "<Figure size 2360.97x576 with 16 Axes>"
      ]
     },
     "metadata": {
      "needs_background": "light"
     },
     "output_type": "display_data"
    }
   ],
   "source": [
    "g = sns.FacetGrid(genshin_vision_wise, col=\"vision\", row='playable', hue=\"rarity\", height=4)\n",
    "g.map(sns.scatterplot, \"weapon_type\", \"talent_books\", alpha=.7)\n",
    "g.add_legend()\n",
    "plt.tight_layout()\n",
    "plt.show()"
   ]
  },
  {
   "cell_type": "code",
   "execution_count": 43,
   "id": "a9b0d67a",
   "metadata": {
    "execution": {
     "iopub.execute_input": "2022-06-19T03:15:51.526931Z",
     "iopub.status.busy": "2022-06-19T03:15:51.526569Z",
     "iopub.status.idle": "2022-06-19T03:15:51.530812Z",
     "shell.execute_reply": "2022-06-19T03:15:51.529906Z"
    },
    "papermill": {
     "duration": 0.029835,
     "end_time": "2022-06-19T03:15:51.532742",
     "exception": false,
     "start_time": "2022-06-19T03:15:51.502907",
     "status": "completed"
    },
    "tags": []
   },
   "outputs": [],
   "source": [
    "# fig5 = px.scatter(genshin_vision_wise, x='vision', y='talent_books', color='playable', size='weapon_type')\n",
    "# fig5.show()"
   ]
  },
  {
   "cell_type": "code",
   "execution_count": 44,
   "id": "e8f0fd34",
   "metadata": {
    "execution": {
     "iopub.execute_input": "2022-06-19T03:15:51.579436Z",
     "iopub.status.busy": "2022-06-19T03:15:51.579085Z",
     "iopub.status.idle": "2022-06-19T03:15:51.600111Z",
     "shell.execute_reply": "2022-06-19T03:15:51.599198Z"
    },
    "papermill": {
     "duration": 0.046926,
     "end_time": "2022-06-19T03:15:51.602248",
     "exception": false,
     "start_time": "2022-06-19T03:15:51.555322",
     "status": "completed"
    },
    "tags": []
   },
   "outputs": [
    {
     "data": {
      "text/html": [
       "<div>\n",
       "<style scoped>\n",
       "    .dataframe tbody tr th:only-of-type {\n",
       "        vertical-align: middle;\n",
       "    }\n",
       "\n",
       "    .dataframe tbody tr th {\n",
       "        vertical-align: top;\n",
       "    }\n",
       "\n",
       "    .dataframe thead th {\n",
       "        text-align: right;\n",
       "    }\n",
       "</style>\n",
       "<table border=\"1\" class=\"dataframe\">\n",
       "  <thead>\n",
       "    <tr style=\"text-align: right;\">\n",
       "      <th></th>\n",
       "      <th>release_date</th>\n",
       "      <th>vision</th>\n",
       "      <th>rarity</th>\n",
       "      <th>region</th>\n",
       "      <th>weapon_type</th>\n",
       "      <th>talent_books</th>\n",
       "      <th>ascension_talent_mat</th>\n",
       "    </tr>\n",
       "  </thead>\n",
       "  <tbody>\n",
       "    <tr>\n",
       "      <th>0</th>\n",
       "      <td>2020-09-28</td>\n",
       "      <td>7</td>\n",
       "      <td>2</td>\n",
       "      <td>3</td>\n",
       "      <td>5</td>\n",
       "      <td>9</td>\n",
       "      <td>7</td>\n",
       "    </tr>\n",
       "    <tr>\n",
       "      <th>1</th>\n",
       "      <td>2020-10-20</td>\n",
       "      <td>1</td>\n",
       "      <td>1</td>\n",
       "      <td>1</td>\n",
       "      <td>1</td>\n",
       "      <td>1</td>\n",
       "      <td>1</td>\n",
       "    </tr>\n",
       "    <tr>\n",
       "      <th>2</th>\n",
       "      <td>2020-11-11</td>\n",
       "      <td>2</td>\n",
       "      <td>2</td>\n",
       "      <td>2</td>\n",
       "      <td>1</td>\n",
       "      <td>1</td>\n",
       "      <td>2</td>\n",
       "    </tr>\n",
       "    <tr>\n",
       "      <th>3</th>\n",
       "      <td>2020-12-01</td>\n",
       "      <td>2</td>\n",
       "      <td>2</td>\n",
       "      <td>1</td>\n",
       "      <td>2</td>\n",
       "      <td>1</td>\n",
       "      <td>2</td>\n",
       "    </tr>\n",
       "    <tr>\n",
       "      <th>4</th>\n",
       "      <td>2020-12-23</td>\n",
       "      <td>1</td>\n",
       "      <td>1</td>\n",
       "      <td>1</td>\n",
       "      <td>1</td>\n",
       "      <td>1</td>\n",
       "      <td>1</td>\n",
       "    </tr>\n",
       "    <tr>\n",
       "      <th>5</th>\n",
       "      <td>2021-01-12</td>\n",
       "      <td>1</td>\n",
       "      <td>1</td>\n",
       "      <td>1</td>\n",
       "      <td>1</td>\n",
       "      <td>1</td>\n",
       "      <td>1</td>\n",
       "    </tr>\n",
       "    <tr>\n",
       "      <th>6</th>\n",
       "      <td>2021-02-03</td>\n",
       "      <td>1</td>\n",
       "      <td>1</td>\n",
       "      <td>1</td>\n",
       "      <td>1</td>\n",
       "      <td>1</td>\n",
       "      <td>1</td>\n",
       "    </tr>\n",
       "    <tr>\n",
       "      <th>7</th>\n",
       "      <td>2021-03-02</td>\n",
       "      <td>1</td>\n",
       "      <td>1</td>\n",
       "      <td>1</td>\n",
       "      <td>1</td>\n",
       "      <td>1</td>\n",
       "      <td>1</td>\n",
       "    </tr>\n",
       "    <tr>\n",
       "      <th>8</th>\n",
       "      <td>2021-04-06</td>\n",
       "      <td>1</td>\n",
       "      <td>1</td>\n",
       "      <td>1</td>\n",
       "      <td>1</td>\n",
       "      <td>1</td>\n",
       "      <td>1</td>\n",
       "    </tr>\n",
       "    <tr>\n",
       "      <th>9</th>\n",
       "      <td>2021-04-28</td>\n",
       "      <td>1</td>\n",
       "      <td>1</td>\n",
       "      <td>1</td>\n",
       "      <td>1</td>\n",
       "      <td>1</td>\n",
       "      <td>1</td>\n",
       "    </tr>\n",
       "    <tr>\n",
       "      <th>10</th>\n",
       "      <td>2021-05-18</td>\n",
       "      <td>1</td>\n",
       "      <td>1</td>\n",
       "      <td>1</td>\n",
       "      <td>1</td>\n",
       "      <td>1</td>\n",
       "      <td>1</td>\n",
       "    </tr>\n",
       "    <tr>\n",
       "      <th>11</th>\n",
       "      <td>2021-06-29</td>\n",
       "      <td>1</td>\n",
       "      <td>1</td>\n",
       "      <td>1</td>\n",
       "      <td>1</td>\n",
       "      <td>1</td>\n",
       "      <td>1</td>\n",
       "    </tr>\n",
       "    <tr>\n",
       "      <th>12</th>\n",
       "      <td>2021-07-21</td>\n",
       "      <td>1</td>\n",
       "      <td>1</td>\n",
       "      <td>1</td>\n",
       "      <td>1</td>\n",
       "      <td>1</td>\n",
       "      <td>1</td>\n",
       "    </tr>\n",
       "    <tr>\n",
       "      <th>13</th>\n",
       "      <td>2021-08-10</td>\n",
       "      <td>2</td>\n",
       "      <td>2</td>\n",
       "      <td>1</td>\n",
       "      <td>2</td>\n",
       "      <td>2</td>\n",
       "      <td>2</td>\n",
       "    </tr>\n",
       "    <tr>\n",
       "      <th>14</th>\n",
       "      <td>2021-09-01</td>\n",
       "      <td>2</td>\n",
       "      <td>2</td>\n",
       "      <td>2</td>\n",
       "      <td>2</td>\n",
       "      <td>3</td>\n",
       "      <td>3</td>\n",
       "    </tr>\n",
       "    <tr>\n",
       "      <th>15</th>\n",
       "      <td>2021-09-21</td>\n",
       "      <td>1</td>\n",
       "      <td>1</td>\n",
       "      <td>1</td>\n",
       "      <td>1</td>\n",
       "      <td>1</td>\n",
       "      <td>1</td>\n",
       "    </tr>\n",
       "    <tr>\n",
       "      <th>16</th>\n",
       "      <td>2021-10-02</td>\n",
       "      <td>1</td>\n",
       "      <td>1</td>\n",
       "      <td>1</td>\n",
       "      <td>1</td>\n",
       "      <td>1</td>\n",
       "      <td>1</td>\n",
       "    </tr>\n",
       "    <tr>\n",
       "      <th>17</th>\n",
       "      <td>2021-12-14</td>\n",
       "      <td>1</td>\n",
       "      <td>2</td>\n",
       "      <td>1</td>\n",
       "      <td>2</td>\n",
       "      <td>2</td>\n",
       "      <td>2</td>\n",
       "    </tr>\n",
       "    <tr>\n",
       "      <th>18</th>\n",
       "      <td>2022-01-05</td>\n",
       "      <td>2</td>\n",
       "      <td>2</td>\n",
       "      <td>1</td>\n",
       "      <td>1</td>\n",
       "      <td>2</td>\n",
       "      <td>2</td>\n",
       "    </tr>\n",
       "    <tr>\n",
       "      <th>19</th>\n",
       "      <td>2022-02-16</td>\n",
       "      <td>1</td>\n",
       "      <td>1</td>\n",
       "      <td>1</td>\n",
       "      <td>1</td>\n",
       "      <td>1</td>\n",
       "      <td>1</td>\n",
       "    </tr>\n",
       "    <tr>\n",
       "      <th>20</th>\n",
       "      <td>2022-04-30</td>\n",
       "      <td>1</td>\n",
       "      <td>1</td>\n",
       "      <td>1</td>\n",
       "      <td>1</td>\n",
       "      <td>1</td>\n",
       "      <td>1</td>\n",
       "    </tr>\n",
       "    <tr>\n",
       "      <th>21</th>\n",
       "      <td>2022-05-31</td>\n",
       "      <td>1</td>\n",
       "      <td>1</td>\n",
       "      <td>1</td>\n",
       "      <td>1</td>\n",
       "      <td>1</td>\n",
       "      <td>1</td>\n",
       "    </tr>\n",
       "  </tbody>\n",
       "</table>\n",
       "</div>"
      ],
      "text/plain": [
       "   release_date  vision  rarity  region  weapon_type  talent_books  \\\n",
       "0    2020-09-28       7       2       3            5             9   \n",
       "1    2020-10-20       1       1       1            1             1   \n",
       "2    2020-11-11       2       2       2            1             1   \n",
       "3    2020-12-01       2       2       1            2             1   \n",
       "4    2020-12-23       1       1       1            1             1   \n",
       "5    2021-01-12       1       1       1            1             1   \n",
       "6    2021-02-03       1       1       1            1             1   \n",
       "7    2021-03-02       1       1       1            1             1   \n",
       "8    2021-04-06       1       1       1            1             1   \n",
       "9    2021-04-28       1       1       1            1             1   \n",
       "10   2021-05-18       1       1       1            1             1   \n",
       "11   2021-06-29       1       1       1            1             1   \n",
       "12   2021-07-21       1       1       1            1             1   \n",
       "13   2021-08-10       2       2       1            2             2   \n",
       "14   2021-09-01       2       2       2            2             3   \n",
       "15   2021-09-21       1       1       1            1             1   \n",
       "16   2021-10-02       1       1       1            1             1   \n",
       "17   2021-12-14       1       2       1            2             2   \n",
       "18   2022-01-05       2       2       1            1             2   \n",
       "19   2022-02-16       1       1       1            1             1   \n",
       "20   2022-04-30       1       1       1            1             1   \n",
       "21   2022-05-31       1       1       1            1             1   \n",
       "\n",
       "    ascension_talent_mat  \n",
       "0                      7  \n",
       "1                      1  \n",
       "2                      2  \n",
       "3                      2  \n",
       "4                      1  \n",
       "5                      1  \n",
       "6                      1  \n",
       "7                      1  \n",
       "8                      1  \n",
       "9                      1  \n",
       "10                     1  \n",
       "11                     1  \n",
       "12                     1  \n",
       "13                     2  \n",
       "14                     3  \n",
       "15                     1  \n",
       "16                     1  \n",
       "17                     2  \n",
       "18                     2  \n",
       "19                     1  \n",
       "20                     1  \n",
       "21                     1  "
      ]
     },
     "execution_count": 44,
     "metadata": {},
     "output_type": "execute_result"
    }
   ],
   "source": [
    "release_date_wise = genshin_df.groupby(['release_date'])[['vision', 'rarity','region','weapon_type','talent_books','ascension_talent_mat']].nunique().reset_index()\n",
    "release_date_wise"
   ]
  },
  {
   "cell_type": "code",
   "execution_count": 45,
   "id": "0971b3ce",
   "metadata": {
    "execution": {
     "iopub.execute_input": "2022-06-19T03:15:51.650170Z",
     "iopub.status.busy": "2022-06-19T03:15:51.649501Z",
     "iopub.status.idle": "2022-06-19T03:15:52.094605Z",
     "shell.execute_reply": "2022-06-19T03:15:52.093507Z"
    },
    "papermill": {
     "duration": 0.471927,
     "end_time": "2022-06-19T03:15:52.096875",
     "exception": false,
     "start_time": "2022-06-19T03:15:51.624948",
     "status": "completed"
    },
    "tags": []
   },
   "outputs": [
    {
     "data": {
      "image/png": "[encoded data removed]",
      "text/plain": [
       "<Figure size 1080x720 with 1 Axes>"
      ]
     },
     "metadata": {
      "needs_background": "light"
     },
     "output_type": "display_data"
    }
   ],
   "source": [
    "plt.figure(figsize=(15,10))\n",
    "fig3 = sns.lineplot(data = release_date_wise, x='release_date', y='vision')"
   ]
  },
  {
   "cell_type": "markdown",
   "id": "d23c2180",
   "metadata": {
    "papermill": {
     "duration": 0.023112,
     "end_time": "2022-06-19T03:15:52.143918",
     "exception": false,
     "start_time": "2022-06-19T03:15:52.120806",
     "status": "completed"
    },
    "tags": []
   },
   "source": [
    "- 7 different types of vision characters (Anemo, Pyro, Hydro, Electro, Cryo, Geo, None - Mondstand and most Liyue characters) were released in September 2020. \n",
    "<br>\n",
    "- While latest May 2022 was the release of 1 new Hydro 5 star character - Yelan.\n",
    "<br>\n",
    "- Also to note, Inazuma was introduced around July 2021 (aka Update 2.0). Hence the spike in new characters in the graph belongs to new Inazuma characters of varying visions (Yoimiya, Raiden Shogun, Sayu, Ayaka, Sara, Kokomi, etc)."
   ]
  },
  {
   "cell_type": "code",
   "execution_count": 46,
   "id": "9444b7e3",
   "metadata": {
    "execution": {
     "iopub.execute_input": "2022-06-19T03:15:52.192657Z",
     "iopub.status.busy": "2022-06-19T03:15:52.192274Z",
     "iopub.status.idle": "2022-06-19T03:15:52.214827Z",
     "shell.execute_reply": "2022-06-19T03:15:52.213874Z"
    },
    "papermill": {
     "duration": 0.049581,
     "end_time": "2022-06-19T03:15:52.217108",
     "exception": false,
     "start_time": "2022-06-19T03:15:52.167527",
     "status": "completed"
    },
    "tags": []
   },
   "outputs": [
    {
     "data": {
      "text/html": [
       "<div>\n",
       "<style scoped>\n",
       "    .dataframe tbody tr th:only-of-type {\n",
       "        vertical-align: middle;\n",
       "    }\n",
       "\n",
       "    .dataframe tbody tr th {\n",
       "        vertical-align: top;\n",
       "    }\n",
       "\n",
       "    .dataframe thead th {\n",
       "        text-align: right;\n",
       "    }\n",
       "</style>\n",
       "<table border=\"1\" class=\"dataframe\">\n",
       "  <thead>\n",
       "    <tr style=\"text-align: right;\">\n",
       "      <th></th>\n",
       "      <th>rarity</th>\n",
       "      <th>vision</th>\n",
       "      <th>region</th>\n",
       "      <th>weapon_type</th>\n",
       "      <th>talent_books</th>\n",
       "      <th>ascension_talent_mat</th>\n",
       "    </tr>\n",
       "  </thead>\n",
       "  <tbody>\n",
       "    <tr>\n",
       "      <th>0</th>\n",
       "      <td>0.0</td>\n",
       "      <td>Unknown</td>\n",
       "      <td>1</td>\n",
       "      <td>1</td>\n",
       "      <td>1</td>\n",
       "      <td>0</td>\n",
       "    </tr>\n",
       "    <tr>\n",
       "      <th>1</th>\n",
       "      <td>4.0</td>\n",
       "      <td>Anemo</td>\n",
       "      <td>2</td>\n",
       "      <td>2</td>\n",
       "      <td>3</td>\n",
       "      <td>1</td>\n",
       "    </tr>\n",
       "    <tr>\n",
       "      <th>2</th>\n",
       "      <td>4.0</td>\n",
       "      <td>Cryo</td>\n",
       "      <td>2</td>\n",
       "      <td>4</td>\n",
       "      <td>3</td>\n",
       "      <td>4</td>\n",
       "    </tr>\n",
       "    <tr>\n",
       "      <th>3</th>\n",
       "      <td>4.0</td>\n",
       "      <td>Electro</td>\n",
       "      <td>3</td>\n",
       "      <td>4</td>\n",
       "      <td>5</td>\n",
       "      <td>4</td>\n",
       "    </tr>\n",
       "    <tr>\n",
       "      <th>4</th>\n",
       "      <td>4.0</td>\n",
       "      <td>Geo</td>\n",
       "      <td>3</td>\n",
       "      <td>4</td>\n",
       "      <td>4</td>\n",
       "      <td>3</td>\n",
       "    </tr>\n",
       "    <tr>\n",
       "      <th>5</th>\n",
       "      <td>4.0</td>\n",
       "      <td>Hydro</td>\n",
       "      <td>2</td>\n",
       "      <td>2</td>\n",
       "      <td>2</td>\n",
       "      <td>2</td>\n",
       "    </tr>\n",
       "    <tr>\n",
       "      <th>6</th>\n",
       "      <td>4.0</td>\n",
       "      <td>Pyro</td>\n",
       "      <td>3</td>\n",
       "      <td>5</td>\n",
       "      <td>5</td>\n",
       "      <td>3</td>\n",
       "    </tr>\n",
       "    <tr>\n",
       "      <th>7</th>\n",
       "      <td>5.0</td>\n",
       "      <td>Anemo</td>\n",
       "      <td>3</td>\n",
       "      <td>3</td>\n",
       "      <td>4</td>\n",
       "      <td>3</td>\n",
       "    </tr>\n",
       "    <tr>\n",
       "      <th>8</th>\n",
       "      <td>5.0</td>\n",
       "      <td>Cryo</td>\n",
       "      <td>4</td>\n",
       "      <td>4</td>\n",
       "      <td>5</td>\n",
       "      <td>5</td>\n",
       "    </tr>\n",
       "    <tr>\n",
       "      <th>9</th>\n",
       "      <td>5.0</td>\n",
       "      <td>Electro</td>\n",
       "      <td>2</td>\n",
       "      <td>3</td>\n",
       "      <td>2</td>\n",
       "      <td>2</td>\n",
       "    </tr>\n",
       "    <tr>\n",
       "      <th>10</th>\n",
       "      <td>5.0</td>\n",
       "      <td>Geo</td>\n",
       "      <td>3</td>\n",
       "      <td>3</td>\n",
       "      <td>3</td>\n",
       "      <td>2</td>\n",
       "    </tr>\n",
       "    <tr>\n",
       "      <th>11</th>\n",
       "      <td>5.0</td>\n",
       "      <td>Hydro</td>\n",
       "      <td>4</td>\n",
       "      <td>3</td>\n",
       "      <td>5</td>\n",
       "      <td>4</td>\n",
       "    </tr>\n",
       "    <tr>\n",
       "      <th>12</th>\n",
       "      <td>5.0</td>\n",
       "      <td>None</td>\n",
       "      <td>1</td>\n",
       "      <td>1</td>\n",
       "      <td>6</td>\n",
       "      <td>1</td>\n",
       "    </tr>\n",
       "    <tr>\n",
       "      <th>13</th>\n",
       "      <td>5.0</td>\n",
       "      <td>Pyro</td>\n",
       "      <td>3</td>\n",
       "      <td>4</td>\n",
       "      <td>4</td>\n",
       "      <td>3</td>\n",
       "    </tr>\n",
       "  </tbody>\n",
       "</table>\n",
       "</div>"
      ],
      "text/plain": [
       "    rarity   vision  region  weapon_type  talent_books  ascension_talent_mat\n",
       "0      0.0  Unknown       1            1             1                     0\n",
       "1      4.0    Anemo       2            2             3                     1\n",
       "2      4.0     Cryo       2            4             3                     4\n",
       "3      4.0  Electro       3            4             5                     4\n",
       "4      4.0      Geo       3            4             4                     3\n",
       "5      4.0    Hydro       2            2             2                     2\n",
       "6      4.0     Pyro       3            5             5                     3\n",
       "7      5.0    Anemo       3            3             4                     3\n",
       "8      5.0     Cryo       4            4             5                     5\n",
       "9      5.0  Electro       2            3             2                     2\n",
       "10     5.0      Geo       3            3             3                     2\n",
       "11     5.0    Hydro       4            3             5                     4\n",
       "12     5.0     None       1            1             6                     1\n",
       "13     5.0     Pyro       3            4             4                     3"
      ]
     },
     "execution_count": 46,
     "metadata": {},
     "output_type": "execute_result"
    }
   ],
   "source": [
    "rarity_wise = genshin_df.groupby(['rarity', 'vision'])[['region','weapon_type','talent_books','ascension_talent_mat']].nunique().reset_index()\n",
    "rarity_wise"
   ]
  },
  {
   "cell_type": "code",
   "execution_count": 47,
   "id": "50492b49",
   "metadata": {
    "execution": {
     "iopub.execute_input": "2022-06-19T03:15:52.265797Z",
     "iopub.status.busy": "2022-06-19T03:15:52.265429Z",
     "iopub.status.idle": "2022-06-19T03:15:53.037914Z",
     "shell.execute_reply": "2022-06-19T03:15:53.036899Z"
    },
    "papermill": {
     "duration": 0.799403,
     "end_time": "2022-06-19T03:15:53.039929",
     "exception": false,
     "start_time": "2022-06-19T03:15:52.240526",
     "status": "completed"
    },
    "tags": []
   },
   "outputs": [
    {
     "data": {
      "image/png": "[encoded data removed]",
      "text/plain": [
       "<Figure size 933.25x595.44 with 1 Axes>"
      ]
     },
     "metadata": {
      "needs_background": "light"
     },
     "output_type": "display_data"
    }
   ],
   "source": [
    "fig4 = sns.catplot(x=\"rarity\", y='region', hue=\"vision\", data=rarity_wise, height=8.27, aspect=11.7/8.27)"
   ]
  }
 ],
 "metadata": {
  "kernelspec": {
   "display_name": "Python 3",
   "language": "python",
   "name": "python3"
  },
  "language_info": {
   "codemirror_mode": {
    "name": "ipython",
    "version": 3
   },
   "file_extension": ".py",
   "mimetype": "text/x-python",
   "name": "python",
   "nbconvert_exporter": "python",
   "pygments_lexer": "ipython3",
   "version": "3.7.12"
  },
  "papermill": {
   "default_parameters": {},
   "duration": 24.71808,
   "end_time": "2022-06-19T03:15:53.885750",
   "environment_variables": {},
   "exception": null,
   "input_path": "__notebook__.ipynb",
   "output_path": "__notebook__.ipynb",
   "parameters": {},
   "start_time": "2022-06-19T03:15:29.167670",
   "version": "2.3.4"
  }
 },
 "nbformat": 4,
 "nbformat_minor": 5
}
